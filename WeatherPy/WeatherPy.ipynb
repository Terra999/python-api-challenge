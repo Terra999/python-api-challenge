{
 "cells": [
  {
   "cell_type": "markdown",
   "metadata": {},
   "source": [
    "# WeatherPy\n",
    "----\n",
    "\n",
    "#### Note\n",
    "* Instructions have been included for each segment. You do not have to follow them exactly, but they are included to help you think through the steps."
   ]
  },
  {
   "cell_type": "code",
   "execution_count": 1,
   "metadata": {},
   "outputs": [],
   "source": [
    "# Dependencies and Setup\n",
    "import matplotlib.pyplot as plt\n",
    "import pandas as pd\n",
    "import numpy as np\n",
    "import random\n",
    "import requests\n",
    "import time\n",
    "\n",
    "from scipy.stats import linregress\n",
    "\n",
    "# Import API key\n",
    "from api_keys import weather_api_key\n",
    "\n",
    "# Incorporated citipy to determine city based on latitude and longitude\n",
    "from citipy import citipy\n",
    "\n",
    "np.random.seed(42)\n",
    "\n",
    "# Output File (CSV)\n",
    "output_data_file = \"output_data/cities.csv\"\n",
    "\n",
    "# Range of latitudes and longitudes\n",
    "lat_range = (-90, 90)\n",
    "lng_range = (-180, 180)"
   ]
  },
  {
   "cell_type": "markdown",
   "metadata": {},
   "source": [
    "## Generate Cities List"
   ]
  },
  {
   "cell_type": "code",
   "execution_count": 2,
   "metadata": {},
   "outputs": [
    {
     "data": {
      "text/plain": [
       "299"
      ]
     },
     "execution_count": 2,
     "metadata": {},
     "output_type": "execute_result"
    }
   ],
   "source": [
    "# List for holding lat_lngs and cities\n",
    "lat_lngs = []\n",
    "cities = []\n",
    "\n",
    "# Create a set of random lat and lng combinations\n",
    "lats = np.random.uniform(lat_range[0], lat_range[1], size=550)\n",
    "lngs = np.random.uniform(lng_range[0], lng_range[1], size=550)\n",
    "lat_lngs = zip(lats, lngs)\n",
    "\n",
    "# Identify nearest city for each lat, lng combination\n",
    "for lat_lng in lat_lngs:\n",
    "    city = citipy.nearest_city(lat_lng[0], lat_lng[1]).city_name\n",
    "    \n",
    "    # If the city is unique, then add it to a our cities list\n",
    "    if city not in cities:\n",
    "        cities.append(city)\n",
    "\n",
    "# Print the city count to confirm sufficient count\n",
    "len(cities)"
   ]
  },
  {
   "cell_type": "markdown",
   "metadata": {},
   "source": [
    "### Perform API Calls\n",
    "* Perform a weather check on each city using a series of successive API calls.\n",
    "* Include a print log of each city as it'sbeing processed (with the city number and city name).\n"
   ]
  },
  {
   "cell_type": "code",
   "execution_count": 3,
   "metadata": {},
   "outputs": [],
   "source": [
    "# cities"
   ]
  },
  {
   "cell_type": "code",
   "execution_count": 4,
   "metadata": {},
   "outputs": [],
   "source": [
    "# Create base url to scan API\n",
    "url = \"http://api.openweathermap.org/data/2.5/weather?&units=imperial\"\n",
    "base_url = f\"{url}&appid={weather_api_key}\""
   ]
  },
  {
   "cell_type": "code",
   "execution_count": 5,
   "metadata": {},
   "outputs": [],
   "source": [
    "# Create parameters\n",
    "# cities = cities[0:10]\n",
    "city_name = []\n",
    "lat = []\n",
    "lng = []\n",
    "max_temp = []\n",
    "humidity = []\n",
    "cloudiness = []\n",
    "wind_speed = []\n",
    "country = []\n",
    "date = []"
   ]
  },
  {
   "cell_type": "code",
   "execution_count": 6,
   "metadata": {},
   "outputs": [],
   "source": [
    "# Create a for loop to go through each city. \n",
    "# Include a try/except so code doesn't break.\n",
    "\n",
    "for city in cities:\n",
    "    my_city_url = base_url + '&q=' + city\n",
    "#     print(my_city_url)\n",
    "\n",
    "    try:\n",
    "        response = requests.get(my_city_url).json()\n",
    "        city_name.append(response['name'])\n",
    "        lat.append(response['coord']['lat'])\n",
    "        lng.append(response['coord']['lon'])\n",
    "        max_temp.append(response['main']['temp_max'])\n",
    "        humidity.append(response['main']['humidity'])\n",
    "        cloudiness.append(response['clouds']['all'])\n",
    "        wind_speed.append(response['wind']['speed'])\n",
    "        country.append(response['sys']['country'])\n",
    "        date.append(response['dt'])\n",
    "        \n",
    "        time.sleep(0.5)\n",
    "        \n",
    "    except (KeyError, ValueError):\n",
    "        # Append null values\n",
    "#         print(\"Missing field...skipping.\")\n",
    "        pass\n",
    "    \n",
    "# print(response)"
   ]
  },
  {
   "cell_type": "code",
   "execution_count": 7,
   "metadata": {},
   "outputs": [
    {
     "data": {
      "text/html": [
       "<div>\n",
       "<style scoped>\n",
       "    .dataframe tbody tr th:only-of-type {\n",
       "        vertical-align: middle;\n",
       "    }\n",
       "\n",
       "    .dataframe tbody tr th {\n",
       "        vertical-align: top;\n",
       "    }\n",
       "\n",
       "    .dataframe thead th {\n",
       "        text-align: right;\n",
       "    }\n",
       "</style>\n",
       "<table border=\"1\" class=\"dataframe\">\n",
       "  <thead>\n",
       "    <tr style=\"text-align: right;\">\n",
       "      <th></th>\n",
       "      <th>City</th>\n",
       "      <th>City Latitude</th>\n",
       "      <th>City Longitude</th>\n",
       "      <th>Max Temperature</th>\n",
       "      <th>Humidity</th>\n",
       "      <th>Cloud Coverage</th>\n",
       "      <th>Wind Speed</th>\n",
       "      <th>City Country</th>\n",
       "      <th>City Datetime</th>\n",
       "    </tr>\n",
       "  </thead>\n",
       "  <tbody>\n",
       "    <tr>\n",
       "      <th>0</th>\n",
       "      <td>Henties Bay</td>\n",
       "      <td>-22.1160</td>\n",
       "      <td>14.2845</td>\n",
       "      <td>69.01</td>\n",
       "      <td>84</td>\n",
       "      <td>34</td>\n",
       "      <td>12.84</td>\n",
       "      <td>NA</td>\n",
       "      <td>1613413207</td>\n",
       "    </tr>\n",
       "    <tr>\n",
       "      <th>1</th>\n",
       "      <td>Tiksi</td>\n",
       "      <td>71.6872</td>\n",
       "      <td>128.8694</td>\n",
       "      <td>-7.22</td>\n",
       "      <td>91</td>\n",
       "      <td>100</td>\n",
       "      <td>9.28</td>\n",
       "      <td>RU</td>\n",
       "      <td>1613413208</td>\n",
       "    </tr>\n",
       "    <tr>\n",
       "      <th>2</th>\n",
       "      <td>Ulcinj</td>\n",
       "      <td>41.9294</td>\n",
       "      <td>19.2244</td>\n",
       "      <td>41.00</td>\n",
       "      <td>38</td>\n",
       "      <td>0</td>\n",
       "      <td>10.36</td>\n",
       "      <td>ME</td>\n",
       "      <td>1613412982</td>\n",
       "    </tr>\n",
       "    <tr>\n",
       "      <th>3</th>\n",
       "      <td>Faya</td>\n",
       "      <td>18.3851</td>\n",
       "      <td>42.4509</td>\n",
       "      <td>62.60</td>\n",
       "      <td>82</td>\n",
       "      <td>0</td>\n",
       "      <td>3.44</td>\n",
       "      <td>SA</td>\n",
       "      <td>1613413209</td>\n",
       "    </tr>\n",
       "    <tr>\n",
       "      <th>4</th>\n",
       "      <td>New Norfolk</td>\n",
       "      <td>-42.7826</td>\n",
       "      <td>147.0587</td>\n",
       "      <td>55.99</td>\n",
       "      <td>78</td>\n",
       "      <td>95</td>\n",
       "      <td>1.48</td>\n",
       "      <td>AU</td>\n",
       "      <td>1613413210</td>\n",
       "    </tr>\n",
       "    <tr>\n",
       "      <th>...</th>\n",
       "      <td>...</td>\n",
       "      <td>...</td>\n",
       "      <td>...</td>\n",
       "      <td>...</td>\n",
       "      <td>...</td>\n",
       "      <td>...</td>\n",
       "      <td>...</td>\n",
       "      <td>...</td>\n",
       "      <td>...</td>\n",
       "    </tr>\n",
       "    <tr>\n",
       "      <th>267</th>\n",
       "      <td>Salalah</td>\n",
       "      <td>17.0151</td>\n",
       "      <td>54.0924</td>\n",
       "      <td>75.20</td>\n",
       "      <td>57</td>\n",
       "      <td>0</td>\n",
       "      <td>2.30</td>\n",
       "      <td>OM</td>\n",
       "      <td>1613413384</td>\n",
       "    </tr>\n",
       "    <tr>\n",
       "      <th>268</th>\n",
       "      <td>Tamiahua</td>\n",
       "      <td>21.2667</td>\n",
       "      <td>-97.4500</td>\n",
       "      <td>48.25</td>\n",
       "      <td>80</td>\n",
       "      <td>100</td>\n",
       "      <td>17.45</td>\n",
       "      <td>MX</td>\n",
       "      <td>1613413385</td>\n",
       "    </tr>\n",
       "    <tr>\n",
       "      <th>269</th>\n",
       "      <td>Caborca</td>\n",
       "      <td>30.5838</td>\n",
       "      <td>-111.1010</td>\n",
       "      <td>59.00</td>\n",
       "      <td>40</td>\n",
       "      <td>92</td>\n",
       "      <td>4.00</td>\n",
       "      <td>MX</td>\n",
       "      <td>1613413385</td>\n",
       "    </tr>\n",
       "    <tr>\n",
       "      <th>270</th>\n",
       "      <td>Sungai Besar</td>\n",
       "      <td>3.6746</td>\n",
       "      <td>100.9867</td>\n",
       "      <td>77.00</td>\n",
       "      <td>94</td>\n",
       "      <td>20</td>\n",
       "      <td>2.77</td>\n",
       "      <td>MY</td>\n",
       "      <td>1613413386</td>\n",
       "    </tr>\n",
       "    <tr>\n",
       "      <th>271</th>\n",
       "      <td>Hare Bay</td>\n",
       "      <td>48.8499</td>\n",
       "      <td>-54.0148</td>\n",
       "      <td>26.60</td>\n",
       "      <td>63</td>\n",
       "      <td>33</td>\n",
       "      <td>6.91</td>\n",
       "      <td>CA</td>\n",
       "      <td>1613413387</td>\n",
       "    </tr>\n",
       "  </tbody>\n",
       "</table>\n",
       "<p>272 rows × 9 columns</p>\n",
       "</div>"
      ],
      "text/plain": [
       "             City  City Latitude  City Longitude  Max Temperature  Humidity  \\\n",
       "0     Henties Bay       -22.1160         14.2845            69.01        84   \n",
       "1           Tiksi        71.6872        128.8694            -7.22        91   \n",
       "2          Ulcinj        41.9294         19.2244            41.00        38   \n",
       "3            Faya        18.3851         42.4509            62.60        82   \n",
       "4     New Norfolk       -42.7826        147.0587            55.99        78   \n",
       "..            ...            ...             ...              ...       ...   \n",
       "267       Salalah        17.0151         54.0924            75.20        57   \n",
       "268      Tamiahua        21.2667        -97.4500            48.25        80   \n",
       "269       Caborca        30.5838       -111.1010            59.00        40   \n",
       "270  Sungai Besar         3.6746        100.9867            77.00        94   \n",
       "271      Hare Bay        48.8499        -54.0148            26.60        63   \n",
       "\n",
       "     Cloud Coverage  Wind Speed City Country  City Datetime  \n",
       "0                34       12.84           NA     1613413207  \n",
       "1               100        9.28           RU     1613413208  \n",
       "2                 0       10.36           ME     1613412982  \n",
       "3                 0        3.44           SA     1613413209  \n",
       "4                95        1.48           AU     1613413210  \n",
       "..              ...         ...          ...            ...  \n",
       "267               0        2.30           OM     1613413384  \n",
       "268             100       17.45           MX     1613413385  \n",
       "269              92        4.00           MX     1613413385  \n",
       "270              20        2.77           MY     1613413386  \n",
       "271              33        6.91           CA     1613413387  \n",
       "\n",
       "[272 rows x 9 columns]"
      ]
     },
     "execution_count": 7,
     "metadata": {},
     "output_type": "execute_result"
    }
   ],
   "source": [
    "# Create a dataframe from the cities, lat, temp, humidity, cloudiness, and wind speed.\n",
    "city_weather_df = pd.DataFrame({\"City\": city_name,\n",
    "                                \"City Latitude\": lat,\n",
    "                                \"City Longitude\": lng,\n",
    "                                \"Max Temperature\": max_temp,\n",
    "                                \"Humidity\": humidity,\n",
    "                                \"Cloud Coverage\": cloudiness,\n",
    "                                \"Wind Speed\": wind_speed,\n",
    "                                \"City Country\": country,\n",
    "                                \"City Datetime\": date\n",
    "                               })\n",
    "\n",
    "\n",
    "city_weather_df"
   ]
  },
  {
   "cell_type": "markdown",
   "metadata": {},
   "source": [
    "### Convert Raw Data to DataFrame\n",
    "* Export the city data into a .csv.\n",
    "* Display the DataFrame"
   ]
  },
  {
   "cell_type": "code",
   "execution_count": 8,
   "metadata": {},
   "outputs": [],
   "source": [
    "# Export the city data into a .csv\n",
    "city_weather_df.to_csv(\"City_Weather.csv\", index=False)"
   ]
  },
  {
   "cell_type": "markdown",
   "metadata": {},
   "source": [
    "## Plotting the Data\n",
    "* Use proper labeling of the plots using plot titles (including date of analysis) and axes labels.\n",
    "* Save the plotted figures as .pngs."
   ]
  },
  {
   "cell_type": "markdown",
   "metadata": {},
   "source": [
    "## Latitude vs. Temperature Plot"
   ]
  },
  {
   "cell_type": "code",
   "execution_count": 9,
   "metadata": {},
   "outputs": [
    {
     "data": {
      "image/png": "[encoded data removed]",
      "text/plain": [
       "<Figure size 432x288 with 1 Axes>"
      ]
     },
     "metadata": {
      "needs_background": "light"
     },
     "output_type": "display_data"
    }
   ],
   "source": [
    "# Build a scatter plot for Latitude vs Temperature (F)\n",
    "plt.scatter(city_weather_df[\"City Latitude\"], city_weather_df[\"Max Temperature\"], marker=\"o\")\n",
    "\n",
    "# Incorporate the other graph properties\n",
    "plt.title(\"Latitude vs Temperature (F)\")\n",
    "plt.ylabel(\"Temperature (F)\")\n",
    "plt.xlabel(\"Latitude\")\n",
    "plt.grid(True)"
   ]
  },
  {
   "cell_type": "markdown",
   "metadata": {},
   "source": [
    "The \"Latitude vs Temperature\" scatter plot compares the latitude with the temperature of hundreds of cities around the world."
   ]
  },
  {
   "cell_type": "markdown",
   "metadata": {},
   "source": [
    "## Latitude vs. Humidity Plot"
   ]
  },
  {
   "cell_type": "code",
   "execution_count": 10,
   "metadata": {},
   "outputs": [
    {
     "data": {
      "image/png": "[encoded data removed]",
      "text/plain": [
       "<Figure size 432x288 with 1 Axes>"
      ]
     },
     "metadata": {
      "needs_background": "light"
     },
     "output_type": "display_data"
    }
   ],
   "source": [
    "# Build a scatter plot for Latitude vs Humidity \n",
    "plt.scatter(city_weather_df[\"City Latitude\"], city_weather_df[\"Humidity\"], marker=\"o\")\n",
    "\n",
    "# Incorporate the other graph properties\n",
    "plt.title(\"Latitude vs Humidity (%)\")\n",
    "plt.ylabel(\"Humidity (%)\")\n",
    "plt.xlabel(\"Latitude\")\n",
    "plt.grid(True)"
   ]
  },
  {
   "cell_type": "markdown",
   "metadata": {},
   "source": [
    "The \"Latitude vs Humidity\" scatter plot compares the latitude with the humidity of hundreds of cities around the world."
   ]
  },
  {
   "cell_type": "markdown",
   "metadata": {},
   "source": [
    "## Latitude vs. Cloudiness Plot"
   ]
  },
  {
   "cell_type": "code",
   "execution_count": 11,
   "metadata": {},
   "outputs": [
    {
     "data": {
      "image/png": "[encoded data removed]",
      "text/plain": [
       "<Figure size 432x288 with 1 Axes>"
      ]
     },
     "metadata": {
      "needs_background": "light"
     },
     "output_type": "display_data"
    }
   ],
   "source": [
    "# Build a scatter plot for Latitude vs Cloudiness\n",
    "plt.scatter(city_weather_df[\"City Latitude\"], city_weather_df[\"Cloud Coverage\"], marker=\"o\")\n",
    "\n",
    "# Incorporate the other graph properties\n",
    "plt.title(\"Latitude vs Cloudiness (%)\")\n",
    "plt.ylabel(\"Cloudiness (%)\")\n",
    "plt.xlabel(\"Latitude\")\n",
    "plt.grid(True)"
   ]
  },
  {
   "cell_type": "markdown",
   "metadata": {},
   "source": [
    "The \"Latitude vs Cloudiness\" scatter plot compares the latitude with the cloudiness in hundreds of cities around the world."
   ]
  },
  {
   "cell_type": "markdown",
   "metadata": {},
   "source": [
    "## Latitude vs. Wind Speed Plot"
   ]
  },
  {
   "cell_type": "code",
   "execution_count": 12,
   "metadata": {},
   "outputs": [
    {
     "data": {
      "image/png": "[encoded data removed]",
      "text/plain": [
       "<Figure size 432x288 with 1 Axes>"
      ]
     },
     "metadata": {
      "needs_background": "light"
     },
     "output_type": "display_data"
    }
   ],
   "source": [
    "# Build a scatter plot for Latitude vs Wind Speed (mph)\n",
    "plt.scatter(city_weather_df[\"City Latitude\"], city_weather_df[\"Wind Speed\"], marker=\"o\")\n",
    "\n",
    "# Incorporate the other graph properties\n",
    "plt.title(\"Latitude vs Wind Speed (mph)\")\n",
    "plt.ylabel(\"Wind Speed (mph)\")\n",
    "plt.xlabel(\"Latitude\")\n",
    "plt.grid(True)\n"
   ]
  },
  {
   "cell_type": "markdown",
   "metadata": {},
   "source": [
    "The \"Latitude vs Wind Speed\" scatter plot compares the latitude with the wind speed in hundreds of cities around the world."
   ]
  },
  {
   "cell_type": "markdown",
   "metadata": {},
   "source": [
    "## Inspect the data and remove the cities where the humidity > 100%.\n",
    "----\n",
    "Skip this step if there are no cities that have humidity > 100%. "
   ]
  },
  {
   "cell_type": "code",
   "execution_count": 13,
   "metadata": {},
   "outputs": [
    {
     "data": {
      "text/plain": [
       "100"
      ]
     },
     "execution_count": 13,
     "metadata": {},
     "output_type": "execute_result"
    }
   ],
   "source": [
    "city_weather_df[\"Humidity\"].max()\n"
   ]
  },
  {
   "cell_type": "code",
   "execution_count": 14,
   "metadata": {},
   "outputs": [
    {
     "data": {
      "text/html": [
       "<div>\n",
       "<style scoped>\n",
       "    .dataframe tbody tr th:only-of-type {\n",
       "        vertical-align: middle;\n",
       "    }\n",
       "\n",
       "    .dataframe tbody tr th {\n",
       "        vertical-align: top;\n",
       "    }\n",
       "\n",
       "    .dataframe thead th {\n",
       "        text-align: right;\n",
       "    }\n",
       "</style>\n",
       "<table border=\"1\" class=\"dataframe\">\n",
       "  <thead>\n",
       "    <tr style=\"text-align: right;\">\n",
       "      <th></th>\n",
       "      <th>City</th>\n",
       "      <th>City Latitude</th>\n",
       "      <th>City Longitude</th>\n",
       "      <th>Max Temperature</th>\n",
       "      <th>Humidity</th>\n",
       "      <th>Cloud Coverage</th>\n",
       "      <th>Wind Speed</th>\n",
       "      <th>City Country</th>\n",
       "      <th>City Datetime</th>\n",
       "    </tr>\n",
       "  </thead>\n",
       "  <tbody>\n",
       "    <tr>\n",
       "      <th>0</th>\n",
       "      <td>Henties Bay</td>\n",
       "      <td>-22.1160</td>\n",
       "      <td>14.2845</td>\n",
       "      <td>69.01</td>\n",
       "      <td>84</td>\n",
       "      <td>34</td>\n",
       "      <td>12.84</td>\n",
       "      <td>NA</td>\n",
       "      <td>1613413207</td>\n",
       "    </tr>\n",
       "    <tr>\n",
       "      <th>1</th>\n",
       "      <td>Tiksi</td>\n",
       "      <td>71.6872</td>\n",
       "      <td>128.8694</td>\n",
       "      <td>-7.22</td>\n",
       "      <td>91</td>\n",
       "      <td>100</td>\n",
       "      <td>9.28</td>\n",
       "      <td>RU</td>\n",
       "      <td>1613413208</td>\n",
       "    </tr>\n",
       "    <tr>\n",
       "      <th>2</th>\n",
       "      <td>Ulcinj</td>\n",
       "      <td>41.9294</td>\n",
       "      <td>19.2244</td>\n",
       "      <td>41.00</td>\n",
       "      <td>38</td>\n",
       "      <td>0</td>\n",
       "      <td>10.36</td>\n",
       "      <td>ME</td>\n",
       "      <td>1613412982</td>\n",
       "    </tr>\n",
       "    <tr>\n",
       "      <th>3</th>\n",
       "      <td>Faya</td>\n",
       "      <td>18.3851</td>\n",
       "      <td>42.4509</td>\n",
       "      <td>62.60</td>\n",
       "      <td>82</td>\n",
       "      <td>0</td>\n",
       "      <td>3.44</td>\n",
       "      <td>SA</td>\n",
       "      <td>1613413209</td>\n",
       "    </tr>\n",
       "    <tr>\n",
       "      <th>4</th>\n",
       "      <td>New Norfolk</td>\n",
       "      <td>-42.7826</td>\n",
       "      <td>147.0587</td>\n",
       "      <td>55.99</td>\n",
       "      <td>78</td>\n",
       "      <td>95</td>\n",
       "      <td>1.48</td>\n",
       "      <td>AU</td>\n",
       "      <td>1613413210</td>\n",
       "    </tr>\n",
       "    <tr>\n",
       "      <th>...</th>\n",
       "      <td>...</td>\n",
       "      <td>...</td>\n",
       "      <td>...</td>\n",
       "      <td>...</td>\n",
       "      <td>...</td>\n",
       "      <td>...</td>\n",
       "      <td>...</td>\n",
       "      <td>...</td>\n",
       "      <td>...</td>\n",
       "    </tr>\n",
       "    <tr>\n",
       "      <th>267</th>\n",
       "      <td>Salalah</td>\n",
       "      <td>17.0151</td>\n",
       "      <td>54.0924</td>\n",
       "      <td>75.20</td>\n",
       "      <td>57</td>\n",
       "      <td>0</td>\n",
       "      <td>2.30</td>\n",
       "      <td>OM</td>\n",
       "      <td>1613413384</td>\n",
       "    </tr>\n",
       "    <tr>\n",
       "      <th>268</th>\n",
       "      <td>Tamiahua</td>\n",
       "      <td>21.2667</td>\n",
       "      <td>-97.4500</td>\n",
       "      <td>48.25</td>\n",
       "      <td>80</td>\n",
       "      <td>100</td>\n",
       "      <td>17.45</td>\n",
       "      <td>MX</td>\n",
       "      <td>1613413385</td>\n",
       "    </tr>\n",
       "    <tr>\n",
       "      <th>269</th>\n",
       "      <td>Caborca</td>\n",
       "      <td>30.5838</td>\n",
       "      <td>-111.1010</td>\n",
       "      <td>59.00</td>\n",
       "      <td>40</td>\n",
       "      <td>92</td>\n",
       "      <td>4.00</td>\n",
       "      <td>MX</td>\n",
       "      <td>1613413385</td>\n",
       "    </tr>\n",
       "    <tr>\n",
       "      <th>270</th>\n",
       "      <td>Sungai Besar</td>\n",
       "      <td>3.6746</td>\n",
       "      <td>100.9867</td>\n",
       "      <td>77.00</td>\n",
       "      <td>94</td>\n",
       "      <td>20</td>\n",
       "      <td>2.77</td>\n",
       "      <td>MY</td>\n",
       "      <td>1613413386</td>\n",
       "    </tr>\n",
       "    <tr>\n",
       "      <th>271</th>\n",
       "      <td>Hare Bay</td>\n",
       "      <td>48.8499</td>\n",
       "      <td>-54.0148</td>\n",
       "      <td>26.60</td>\n",
       "      <td>63</td>\n",
       "      <td>33</td>\n",
       "      <td>6.91</td>\n",
       "      <td>CA</td>\n",
       "      <td>1613413387</td>\n",
       "    </tr>\n",
       "  </tbody>\n",
       "</table>\n",
       "<p>272 rows × 9 columns</p>\n",
       "</div>"
      ],
      "text/plain": [
       "             City  City Latitude  City Longitude  Max Temperature  Humidity  \\\n",
       "0     Henties Bay       -22.1160         14.2845            69.01        84   \n",
       "1           Tiksi        71.6872        128.8694            -7.22        91   \n",
       "2          Ulcinj        41.9294         19.2244            41.00        38   \n",
       "3            Faya        18.3851         42.4509            62.60        82   \n",
       "4     New Norfolk       -42.7826        147.0587            55.99        78   \n",
       "..            ...            ...             ...              ...       ...   \n",
       "267       Salalah        17.0151         54.0924            75.20        57   \n",
       "268      Tamiahua        21.2667        -97.4500            48.25        80   \n",
       "269       Caborca        30.5838       -111.1010            59.00        40   \n",
       "270  Sungai Besar         3.6746        100.9867            77.00        94   \n",
       "271      Hare Bay        48.8499        -54.0148            26.60        63   \n",
       "\n",
       "     Cloud Coverage  Wind Speed City Country  City Datetime  \n",
       "0                34       12.84           NA     1613413207  \n",
       "1               100        9.28           RU     1613413208  \n",
       "2                 0       10.36           ME     1613412982  \n",
       "3                 0        3.44           SA     1613413209  \n",
       "4                95        1.48           AU     1613413210  \n",
       "..              ...         ...          ...            ...  \n",
       "267               0        2.30           OM     1613413384  \n",
       "268             100       17.45           MX     1613413385  \n",
       "269              92        4.00           MX     1613413385  \n",
       "270              20        2.77           MY     1613413386  \n",
       "271              33        6.91           CA     1613413387  \n",
       "\n",
       "[272 rows x 9 columns]"
      ]
     },
     "execution_count": 14,
     "metadata": {},
     "output_type": "execute_result"
    }
   ],
   "source": [
    "# Make a new DataFrame equal to the city data to drop all humidity outliers by index.\n",
    "# Passing \"inplace=False\" will make a copy of the city_data DataFrame, which we call \"clean_city_data\".\n",
    "city_weather_df.dropna(inplace=True)\n",
    "city_weather_df.reset_index(drop=True, inplace=True)\n",
    "city_weather_df"
   ]
  },
  {
   "cell_type": "markdown",
   "metadata": {},
   "source": [
    "## Linear Regression"
   ]
  },
  {
   "cell_type": "markdown",
   "metadata": {},
   "source": [
    "####  Northern Hemisphere - Max Temp vs. Latitude Linear Regression"
   ]
  },
  {
   "cell_type": "code",
   "execution_count": 15,
   "metadata": {},
   "outputs": [
    {
     "name": "stdout",
     "output_type": "stream",
     "text": [
      "1     -10.955096\n",
      "2      33.905687\n",
      "3      69.399431\n",
      "7      -1.753283\n",
      "8      66.738791\n",
      "         ...    \n",
      "267    71.464747\n",
      "268    65.055332\n",
      "269    51.009522\n",
      "270    91.575954\n",
      "271    23.472824\n",
      "Name: City Latitude, Length: 180, dtype: float64\n"
     ]
    }
   ],
   "source": [
    "# Find Northern Hemisphere cities with a latitude greater than '0'\n",
    "northern_lats = city_weather_df.loc[(city_weather_df['City Latitude'] > 0)]\n",
    "\n",
    "# Define variables\n",
    "north_latitude = northern_lats[\"City Latitude\"]\n",
    "north_max_temp = northern_lats[\"Max Temperature\"]\n",
    "\n",
    "# Perform a linear regression on temperature vs. latitude\n",
    "(slope, intercept, rvalue, pvalue, stderr) = linregress(north_latitude, north_max_temp)\n",
    "\n",
    "# Get regression values\n",
    "regress_values_north = north_latitude * slope + intercept\n",
    "print(regress_values_north)\n"
   ]
  },
  {
   "cell_type": "code",
   "execution_count": 16,
   "metadata": {},
   "outputs": [
    {
     "name": "stdout",
     "output_type": "stream",
     "text": [
      "y = -1.51x +97.12\n"
     ]
    }
   ],
   "source": [
    "# Create line equation string\n",
    "line_eq = \"y = \" + str(round(slope,2)) + \"x +\" + str(round(intercept,2))\n",
    "print(line_eq)"
   ]
  },
  {
   "cell_type": "code",
   "execution_count": 17,
   "metadata": {},
   "outputs": [
    {
     "name": "stdout",
     "output_type": "stream",
     "text": [
      "The r-value is 0.7627905833610004\n"
     ]
    },
    {
     "data": {
      "image/png": "[encoded data removed]",
      "text/plain": [
       "<Figure size 432x288 with 1 Axes>"
      ]
     },
     "metadata": {
      "needs_background": "light"
     },
     "output_type": "display_data"
    }
   ],
   "source": [
    "# Create plot\n",
    "plt.scatter(north_latitude, north_max_temp)\n",
    "plt.plot(north_latitude,regress_values_north, \"r-\")\n",
    "\n",
    "#Label plot and annotate the line equation\n",
    "plt.title(\"Northern Hemisphere - Max Temp (F) vs. Latitude\")\n",
    "plt.xlabel('Latitude')\n",
    "plt.ylabel('Temperature (F)')\n",
    "plt.annotate(line_eq,(35, 80),fontsize=15,color=\"red\")\n",
    "\n",
    "# Print r value\n",
    "print(f\"The r-value is {rvalue**2}\")\n",
    "\n",
    "# Show plot\n",
    "plt.show()"
   ]
  },
  {
   "cell_type": "markdown",
   "metadata": {},
   "source": [
    "####  Southern Hemisphere - Max Temp vs. Latitude Linear Regression"
   ]
  },
  {
   "cell_type": "code",
   "execution_count": 18,
   "metadata": {},
   "outputs": [
    {
     "name": "stdout",
     "output_type": "stream",
     "text": [
      "0      73.205299\n",
      "4      63.248028\n",
      "5      65.551200\n",
      "6      72.721422\n",
      "12     73.646632\n",
      "         ...    \n",
      "249    68.716177\n",
      "259    78.514597\n",
      "261    80.497369\n",
      "262    76.482729\n",
      "264    79.560018\n",
      "Name: City Latitude, Length: 92, dtype: float64\n"
     ]
    }
   ],
   "source": [
    "# Find Southern Hemisphere cities with a latitude less than '0'\n",
    "southern_lats = city_weather_df.loc[(city_weather_df['City Latitude'] < 0)]\n",
    "\n",
    "# Define variables\n",
    "south_latitude = southern_lats[\"City Latitude\"]\n",
    "south_max_temp = southern_lats[\"Max Temperature\"]\n",
    "\n",
    "# Perform a linear regression on temperature vs. latitude\n",
    "(slope, intercept, rvalue, pvalue, stderr) = linregress(south_latitude, south_max_temp)\n",
    "\n",
    "# Get regression values\n",
    "regress_values_south = south_latitude * slope + intercept\n",
    "print(regress_values_south)"
   ]
  },
  {
   "cell_type": "code",
   "execution_count": 19,
   "metadata": {},
   "outputs": [
    {
     "name": "stdout",
     "output_type": "stream",
     "text": [
      "y = 0.48x +83.86\n"
     ]
    }
   ],
   "source": [
    "# Create line equation string\n",
    "line_eq = \"y = \" + str(round(slope,2)) + \"x +\" + str(round(intercept,2))\n",
    "print(line_eq)"
   ]
  },
  {
   "cell_type": "code",
   "execution_count": 20,
   "metadata": {},
   "outputs": [
    {
     "name": "stdout",
     "output_type": "stream",
     "text": [
      "The r-value is 0.5113607729881674\n"
     ]
    },
    {
     "data": {
      "image/png": "[encoded data removed]",
      "text/plain": [
       "<Figure size 432x288 with 1 Axes>"
      ]
     },
     "metadata": {
      "needs_background": "light"
     },
     "output_type": "display_data"
    }
   ],
   "source": [
    "# Create plot\n",
    "plt.scatter(south_latitude, south_max_temp)\n",
    "plt.plot(south_latitude,regress_values_south, \"r-\")\n",
    "\n",
    "#Label plot and annotate the line equation\n",
    "plt.title(\"Southern Hemisphere - Max Temp (F) vs. Latitude\")\n",
    "plt.xlabel('Latitude')\n",
    "plt.ylabel('Temperature (F)')\n",
    "plt.annotate(line_eq,(-30, 54),fontsize=15,color=\"red\")\n",
    "\n",
    "# Print r value\n",
    "print(f\"The r-value is {rvalue**2}\")\n",
    "\n",
    "# Show plot\n",
    "plt.show()"
   ]
  },
  {
   "cell_type": "markdown",
   "metadata": {},
   "source": [
    "####  Northern Hemisphere - Humidity (%) vs. Latitude Linear Regression"
   ]
  },
  {
   "cell_type": "code",
   "execution_count": 21,
   "metadata": {},
   "outputs": [
    {
     "name": "stdout",
     "output_type": "stream",
     "text": [
      "1      84.660935\n",
      "2      70.393150\n",
      "3      59.104513\n",
      "7      81.734337\n",
      "8      59.950718\n",
      "         ...    \n",
      "267    58.447648\n",
      "268    60.486136\n",
      "269    64.953347\n",
      "270    52.051362\n",
      "271    73.711279\n",
      "Name: City Latitude, Length: 180, dtype: float64\n"
     ]
    }
   ],
   "source": [
    "# Find Northern Hemisphere cities with a latitude greater than '0'\n",
    "northern_lats = city_weather_df.loc[(city_weather_df['City Latitude'] > 0)]\n",
    "\n",
    "# Define variables\n",
    "north_latitude = northern_lats[\"City Latitude\"]\n",
    "north_humidity = northern_lats[\"Humidity\"]\n",
    "\n",
    "# Perform a linear regression on humidity vs. latitude\n",
    "(slope, intercept, rvalue, pvalue, stderr) = linregress(north_latitude, north_humidity)\n",
    "\n",
    "# Get regression values\n",
    "regress_values_north = north_latitude * slope + intercept\n",
    "print(regress_values_north)"
   ]
  },
  {
   "cell_type": "code",
   "execution_count": 22,
   "metadata": {},
   "outputs": [
    {
     "name": "stdout",
     "output_type": "stream",
     "text": [
      "y = 0.48x +50.29\n"
     ]
    }
   ],
   "source": [
    "# Create line equation string\n",
    "line_eq = \"y = \" + str(round(slope,2)) + \"x +\" + str(round(intercept,2))\n",
    "print(line_eq)"
   ]
  },
  {
   "cell_type": "code",
   "execution_count": 23,
   "metadata": {},
   "outputs": [
    {
     "name": "stdout",
     "output_type": "stream",
     "text": [
      "The r-value is 0.22145491418599145\n"
     ]
    },
    {
     "data": {
      "image/png": "[encoded data removed]",
      "text/plain": [
       "<Figure size 432x288 with 1 Axes>"
      ]
     },
     "metadata": {
      "needs_background": "light"
     },
     "output_type": "display_data"
    }
   ],
   "source": [
    "# Create plot\n",
    "plt.scatter(north_latitude, north_humidity)\n",
    "plt.plot(north_latitude,regress_values_north, \"r-\")\n",
    "\n",
    "#Label plot and annotate the line equation\n",
    "plt.title(\"Northern Hemisphere - Humidity (%) vs. Latitude\")\n",
    "plt.xlabel('Latitude')\n",
    "plt.ylabel('Humidity (%)')\n",
    "plt.annotate(line_eq,(46, 30),fontsize=15,color=\"red\")\n",
    "\n",
    "# Print r value\n",
    "print(f\"The r-value is {rvalue**2}\")\n",
    "\n",
    "# Show plot\n",
    "plt.show()"
   ]
  },
  {
   "cell_type": "markdown",
   "metadata": {},
   "source": [
    "####  Southern Hemisphere - Humidity (%) vs. Latitude Linear Regression"
   ]
  },
  {
   "cell_type": "code",
   "execution_count": 24,
   "metadata": {},
   "outputs": [
    {
     "name": "stdout",
     "output_type": "stream",
     "text": [
      "0      76.226686\n",
      "4      69.355654\n",
      "5      70.944962\n",
      "6      75.892786\n",
      "12     76.531228\n",
      "         ...    \n",
      "249    73.128960\n",
      "259    79.890376\n",
      "261    81.258591\n",
      "262    78.488282\n",
      "264    80.611770\n",
      "Name: City Latitude, Length: 92, dtype: float64\n"
     ]
    }
   ],
   "source": [
    "# Find Southern Hemisphere cities with a latitude less than '0'\n",
    "southern_lats = city_weather_df.loc[(city_weather_df['City Latitude'] < 0)]\n",
    "\n",
    "# Define variables\n",
    "south_latitude = southern_lats[\"City Latitude\"]\n",
    "south_humidity = southern_lats[\"Humidity\"]\n",
    "\n",
    "# Perform a linear regression on humidity vs. latitude\n",
    "(slope, intercept, rvalue, pvalue, stderr) = linregress(south_latitude, south_humidity)\n",
    "\n",
    "# Get regression values\n",
    "regress_values_south = south_latitude * slope + intercept\n",
    "print(regress_values_south)"
   ]
  },
  {
   "cell_type": "code",
   "execution_count": 25,
   "metadata": {},
   "outputs": [
    {
     "name": "stdout",
     "output_type": "stream",
     "text": [
      "y = 0.33x +83.58\n"
     ]
    }
   ],
   "source": [
    "# Create line equation string\n",
    "line_eq = \"y = \" + str(round(slope,2)) + \"x +\" + str(round(intercept,2))\n",
    "print(line_eq)"
   ]
  },
  {
   "cell_type": "code",
   "execution_count": 26,
   "metadata": {},
   "outputs": [
    {
     "name": "stdout",
     "output_type": "stream",
     "text": [
      "The r-value is 0.08943799362734649\n"
     ]
    },
    {
     "data": {
      "image/png": "[encoded data removed]",
      "text/plain": [
       "<Figure size 432x288 with 1 Axes>"
      ]
     },
     "metadata": {
      "needs_background": "light"
     },
     "output_type": "display_data"
    }
   ],
   "source": [
    "# Create plot\n",
    "plt.scatter(south_latitude, south_humidity)\n",
    "plt.plot(south_latitude,regress_values_south, \"r-\")\n",
    "\n",
    "#Label plot and annotate the line equation\n",
    "plt.title(\"Southern Hemisphere - Humidity (%) vs. Latitude\")\n",
    "plt.xlabel('Latitude')\n",
    "plt.ylabel('Humdidty (%)')\n",
    "plt.annotate(line_eq,(-30, 58),fontsize=15,color=\"red\")\n",
    "\n",
    "# Print r value\n",
    "print(f\"The r-value is {rvalue**2}\")\n",
    "\n",
    "# Show plot\n",
    "plt.show()"
   ]
  },
  {
   "cell_type": "markdown",
   "metadata": {},
   "source": [
    "####  Northern Hemisphere - Cloudiness (%) vs. Latitude Linear Regression"
   ]
  },
  {
   "cell_type": "code",
   "execution_count": 27,
   "metadata": {},
   "outputs": [
    {
     "name": "stdout",
     "output_type": "stream",
     "text": [
      "1      62.307177\n",
      "2      49.322405\n",
      "3      39.048884\n",
      "7      59.643750\n",
      "8      39.818995\n",
      "         ...    \n",
      "267    38.451086\n",
      "268    40.306266\n",
      "269    44.371769\n",
      "270    32.629979\n",
      "271    52.342155\n",
      "Name: City Latitude, Length: 180, dtype: float64\n"
     ]
    }
   ],
   "source": [
    "# Find Northern Hemisphere cities with a latitude greater than '0'\n",
    "northern_lats = city_weather_df.loc[(city_weather_df['City Latitude'] > 0)]\n",
    "\n",
    "# Define variables\n",
    "north_latitude = northern_lats[\"City Latitude\"]\n",
    "north_cloudiness = northern_lats[\"Cloud Coverage\"]\n",
    "\n",
    "# Perform a linear regression on cloudiness vs. latitude\n",
    "(slope, intercept, rvalue, pvalue, stderr) = linregress(north_latitude, north_cloudiness)\n",
    "\n",
    "# Get regression values\n",
    "regress_values_north = north_latitude * slope + intercept\n",
    "print(regress_values_north)"
   ]
  },
  {
   "cell_type": "code",
   "execution_count": 28,
   "metadata": {},
   "outputs": [
    {
     "name": "stdout",
     "output_type": "stream",
     "text": [
      "y = 0.44x +31.03\n"
     ]
    }
   ],
   "source": [
    "# Create line equation string\n",
    "line_eq = \"y = \" + str(round(slope,2)) + \"x +\" + str(round(intercept,2))\n",
    "print(line_eq)"
   ]
  },
  {
   "cell_type": "code",
   "execution_count": 29,
   "metadata": {},
   "outputs": [
    {
     "name": "stdout",
     "output_type": "stream",
     "text": [
      "The r-value is 0.05417670243727938\n"
     ]
    },
    {
     "data": {
      "image/png": "[encoded data removed]",
      "text/plain": [
       "<Figure size 432x288 with 1 Axes>"
      ]
     },
     "metadata": {
      "needs_background": "light"
     },
     "output_type": "display_data"
    }
   ],
   "source": [
    "# Create plot\n",
    "plt.scatter(north_latitude, north_cloudiness)\n",
    "plt.plot(north_latitude,regress_values_north, \"r-\")\n",
    "\n",
    "#Label plot and annotate the line equation\n",
    "plt.title(\"Northern Hemisphere - Cloudiness (%) vs. Latitude\")\n",
    "plt.xlabel('Latitude')\n",
    "plt.ylabel('Cloudiness (%)')\n",
    "plt.annotate(line_eq,(32, 30),fontsize=15,color=\"red\")\n",
    "\n",
    "# Print r value\n",
    "print(f\"The r-value is {rvalue**2}\")\n",
    "\n",
    "# Show plot\n",
    "plt.show()"
   ]
  },
  {
   "cell_type": "markdown",
   "metadata": {},
   "source": [
    "####  Southern Hemisphere - Cloudiness (%) vs. Latitude Linear Regression"
   ]
  },
  {
   "cell_type": "code",
   "execution_count": 40,
   "metadata": {},
   "outputs": [
    {
     "name": "stdout",
     "output_type": "stream",
     "text": [
      "0      57.406907\n",
      "4      42.866815\n",
      "5      46.230019\n",
      "6      56.700327\n",
      "12     58.051364\n",
      "         ...    \n",
      "249    50.851673\n",
      "259    65.159804\n",
      "261    68.055144\n",
      "262    62.192771\n",
      "264    66.686378\n",
      "Name: City Latitude, Length: 92, dtype: float64\n"
     ]
    }
   ],
   "source": [
    "# Find Southern Hemisphere cities with a latitude less than '0'\n",
    "southern_lats = city_weather_df.loc[(city_weather_df['City Latitude'] < 0)]\n",
    "\n",
    "# Define variables\n",
    "south_latitude = southern_lats[\"City Latitude\"]\n",
    "south_cloudiness = southern_lats[\"Cloud Coverage\"]\n",
    "\n",
    "# Perform a linear regression on cloudiness vs. latitude\n",
    "(slope, intercept, rvalue, pvalue, stderr) = linregress(south_latitude, south_cloudiness)\n",
    "\n",
    "# Get regression values\n",
    "regress_values_south = south_latitude * slope + intercept\n",
    "print(regress_values_south)"
   ]
  },
  {
   "cell_type": "code",
   "execution_count": 41,
   "metadata": {},
   "outputs": [
    {
     "name": "stdout",
     "output_type": "stream",
     "text": [
      "y = 0.7x +72.97\n"
     ]
    }
   ],
   "source": [
    "# Create line equation string\n",
    "line_eq = \"y = \" + str(round(slope,2)) + \"x +\" + str(round(intercept,2))\n",
    "print(line_eq)"
   ]
  },
  {
   "cell_type": "code",
   "execution_count": 42,
   "metadata": {},
   "outputs": [
    {
     "name": "stdout",
     "output_type": "stream",
     "text": [
      "The r-value is 0.07847063467488717\n"
     ]
    },
    {
     "data": {
      "image/png": "[encoded data removed]",
      "text/plain": [
       "<Figure size 432x288 with 1 Axes>"
      ]
     },
     "metadata": {
      "needs_background": "light"
     },
     "output_type": "display_data"
    }
   ],
   "source": [
    "# Create plot\n",
    "plt.scatter(south_latitude, south_cloudiness)\n",
    "plt.plot(south_latitude,regress_values_south, \"r-\")\n",
    "\n",
    "#Label plot and annotate the line equation\n",
    "plt.title(\"Southern Hemisphere - Cloudiness (%) vs. Latitude\")\n",
    "plt.xlabel('Latitude')\n",
    "plt.ylabel('Cloudiness (%)')\n",
    "plt.annotate(line_eq,(-26, 25),fontsize=15,color=\"red\")\n",
    "\n",
    "# Print r value\n",
    "print(f\"The r-value is {rvalue**2}\")\n",
    "\n",
    "# Show plot\n",
    "plt.show()"
   ]
  },
  {
   "cell_type": "markdown",
   "metadata": {},
   "source": [
    "####  Northern Hemisphere - Wind Speed (mph) vs. Latitude Linear Regression"
   ]
  },
  {
   "cell_type": "code",
   "execution_count": 33,
   "metadata": {},
   "outputs": [
    {
     "name": "stdout",
     "output_type": "stream",
     "text": [
      "1      7.947256\n",
      "2      8.546184\n",
      "3      9.020055\n",
      "7      8.070108\n",
      "8      8.984533\n",
      "         ...   \n",
      "267    9.047629\n",
      "268    8.962058\n",
      "269    8.774535\n",
      "270    9.316130\n",
      "271    8.406897\n",
      "Name: City Latitude, Length: 180, dtype: float64\n"
     ]
    }
   ],
   "source": [
    "# Find Northern Hemisphere cities with a latitude greater than '0'\n",
    "northern_lats = city_weather_df.loc[(city_weather_df['City Latitude'] > 0)]\n",
    "\n",
    "# Define variables\n",
    "north_latitude = northern_lats[\"City Latitude\"]\n",
    "north_wind_speed = northern_lats[\"Wind Speed\"]\n",
    "\n",
    "# Perform a linear regression on wind speed vs. latitude\n",
    "(slope, intercept, rvalue, pvalue, stderr) = linregress(north_latitude, north_wind_speed)\n",
    "\n",
    "# Get regression values\n",
    "regress_values_north = north_latitude * slope + intercept\n",
    "print(regress_values_north)"
   ]
  },
  {
   "cell_type": "code",
   "execution_count": 34,
   "metadata": {},
   "outputs": [
    {
     "name": "stdout",
     "output_type": "stream",
     "text": [
      "y = -0.02x +9.39\n"
     ]
    }
   ],
   "source": [
    "# Create line equation string\n",
    "line_eq = \"y = \" + str(round(slope,2)) + \"x +\" + str(round(intercept,2))\n",
    "print(line_eq)"
   ]
  },
  {
   "cell_type": "code",
   "execution_count": 35,
   "metadata": {},
   "outputs": [
    {
     "name": "stdout",
     "output_type": "stream",
     "text": [
      "The r-value is 0.004702606383179471\n"
     ]
    },
    {
     "data": {
      "image/png": "[encoded data removed]",
      "text/plain": [
       "<Figure size 432x288 with 1 Axes>"
      ]
     },
     "metadata": {
      "needs_background": "light"
     },
     "output_type": "display_data"
    }
   ],
   "source": [
    "# Create plot\n",
    "plt.scatter(north_latitude, north_wind_speed)\n",
    "plt.plot(north_latitude,regress_values_north, \"r-\")\n",
    "\n",
    "#Label plot and annotate the line equation\n",
    "plt.title(\"Northern Hemisphere - Wind Speed (mph) vs. Latitude\")\n",
    "plt.xlabel('Latitude')\n",
    "plt.ylabel('Wind Speed (mph)')\n",
    "plt.annotate(line_eq,(5, 27),fontsize=15,color=\"red\")\n",
    "\n",
    "# Print r value\n",
    "print(f\"The r-value is {rvalue**2}\")\n",
    "\n",
    "# Show plot\n",
    "plt.show()"
   ]
  },
  {
   "cell_type": "markdown",
   "metadata": {},
   "source": [
    "####  Southern Hemisphere - Wind Speed (mph) vs. Latitude Linear Regression"
   ]
  },
  {
   "cell_type": "code",
   "execution_count": 36,
   "metadata": {},
   "outputs": [
    {
     "name": "stdout",
     "output_type": "stream",
     "text": [
      "0      8.520085\n",
      "4      9.760688\n",
      "5      9.473730\n",
      "6      8.580373\n",
      "12     8.465098\n",
      "         ...   \n",
      "249    9.079397\n",
      "259    7.858586\n",
      "261    7.611547\n",
      "262    8.111741\n",
      "264    7.728334\n",
      "Name: City Latitude, Length: 92, dtype: float64\n"
     ]
    }
   ],
   "source": [
    "# Find Southern Hemisphere cities with a latitude less than '0'\n",
    "southern_lats = city_weather_df.loc[(city_weather_df['City Latitude'] < 0)]\n",
    "\n",
    "# Define variables\n",
    "south_latitude = southern_lats[\"City Latitude\"]\n",
    "south_wind_speed = southern_lats[\"Wind Speed\"]\n",
    "\n",
    "# Perform a linear regression on wind speed vs. latitude\n",
    "(slope, intercept, rvalue, pvalue, stderr) = linregress(south_latitude, south_wind_speed)\n",
    "\n",
    "# Get regression values\n",
    "regress_values_south = south_latitude * slope + intercept\n",
    "print(regress_values_south)"
   ]
  },
  {
   "cell_type": "code",
   "execution_count": 37,
   "metadata": {},
   "outputs": [
    {
     "name": "stdout",
     "output_type": "stream",
     "text": [
      "y = -0.06x +7.19\n"
     ]
    }
   ],
   "source": [
    "# Create line equation string\n",
    "line_eq = \"y = \" + str(round(slope,2)) + \"x +\" + str(round(intercept,2))\n",
    "print(line_eq)"
   ]
  },
  {
   "cell_type": "code",
   "execution_count": 38,
   "metadata": {},
   "outputs": [
    {
     "name": "stdout",
     "output_type": "stream",
     "text": [
      "The r-value is 0.023420252415611992\n"
     ]
    },
    {
     "data": {
      "image/png": "[encoded data removed]",
      "text/plain": [
       "<Figure size 432x288 with 1 Axes>"
      ]
     },
     "metadata": {
      "needs_background": "light"
     },
     "output_type": "display_data"
    }
   ],
   "source": [
    "# Create plot\n",
    "plt.scatter(south_latitude, south_wind_speed)\n",
    "plt.plot(south_latitude,regress_values_south, \"r-\")\n",
    "\n",
    "#Label plot and annotate the line equation\n",
    "plt.title(\"Southern Hemisphere - Wind Speed (mph) vs. Latitude\")\n",
    "plt.xlabel('Latitude')\n",
    "plt.ylabel('Wind Speed (mph)')\n",
    "plt.annotate(line_eq,(-30, 17),fontsize=15,color=\"red\")\n",
    "\n",
    "# Print r value\n",
    "print(f\"The r-value is {rvalue**2}\")\n",
    "\n",
    "# Show plot\n",
    "plt.show()"
   ]
  },
  {
   "cell_type": "code",
   "execution_count": null,
   "metadata": {},
   "outputs": [],
   "source": []
  }
 ],
 "metadata": {
  "anaconda-cloud": {},
  "kernel_info": {
   "name": "python3"
  },
  "kernelspec": {
   "display_name": "Python 3",
   "language": "python",
   "name": "python3"
  },
  "language_info": {
   "codemirror_mode": {
    "name": "ipython",
    "version": 3
   },
   "file_extension": ".py",
   "mimetype": "text/x-python",
   "name": "python",
   "nbconvert_exporter": "python",
   "pygments_lexer": "ipython3",
   "version": "3.6.10"
  },
  "latex_envs": {
   "LaTeX_envs_menu_present": true,
   "autoclose": false,
   "autocomplete": true,
   "bibliofile": "biblio.bib",
   "cite_by": "apalike",
   "current_citInitial": 1,
   "eqLabelWithNumbers": true,
   "eqNumInitial": 1,
   "hotkeys": {
    "equation": "Ctrl-E",
    "itemize": "Ctrl-I"
   },
   "labels_anchors": false,
   "latex_user_defs": false,
   "report_style_numbering": false,
   "user_envs_cfg": false
  },
  "nteract": {
   "version": "0.12.3"
  }
 },
 "nbformat": 4,
 "nbformat_minor": 2
}
