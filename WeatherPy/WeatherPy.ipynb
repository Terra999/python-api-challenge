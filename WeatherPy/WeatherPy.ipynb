{
 "cells": [
  {
   "cell_type": "markdown",
   "metadata": {},
   "source": [
    "# WeatherPy\n",
    "----\n",
    "\n",
    "#### Analysis\n",
    "* There is a strong negative relationship between latitude and temperature in the Northern Hemisphere and a weak positive relationship in the Southern Hemisphere. The farther away from the equator (0 degrees latitude) one travels in the Northern Hemisphere, there is a strong likelihood the temperature will continue to get colder. Whereas, in the Southern Hemisphere, the farther away one travels from the equator the likelihood of experiencing colder temperatures is not as likely.\n",
    "* There seems to be no correlation between latitude and cloud coverage, as the points in the scatter plot are pretty evenly distributed throughout. Meaning, the likelihood of experiencing cloud coverage is similar no matter what the latitude.\n",
    "* Comparing the humidity between the Northern and Southern Hemispheres is interesting. Firstly, they both showed weak relationships between latitude and humidity. Secondly, moving away from the equator in the Northern Hemisphere shows an increase in humidity, while moving away from the equator in the Southern Hemisphere shows a decrease in humidity. The slope in the line of regression is very similar for both hemispheres, so the rate of change in humidity is similar for the two hemispheres."
   ]
  },
  {
   "cell_type": "code",
   "execution_count": 1,
   "metadata": {},
   "outputs": [],
   "source": [
    "# Dependencies and Setup\n",
    "import matplotlib.pyplot as plt\n",
    "import pandas as pd\n",
    "import numpy as np\n",
    "import random\n",
    "import requests\n",
    "import time\n",
    "\n",
    "from scipy.stats import linregress\n",
    "\n",
    "# Import API key\n",
    "from api_keys import weather_api_key\n",
    "\n",
    "# Incorporated citipy to determine city based on latitude and longitude\n",
    "from citipy import citipy\n",
    "\n",
    "\n",
    "# Output File (CSV)\n",
    "output_data_file = \"output_data/cities.csv\"\n",
    "\n",
    "# Range of latitudes and longitudes\n",
    "lat_range = (-90, 90)\n",
    "lng_range = (-180, 180)"
   ]
  },
  {
   "cell_type": "markdown",
   "metadata": {},
   "source": [
    "## Generate Cities List"
   ]
  },
  {
   "cell_type": "code",
   "execution_count": 2,
   "metadata": {},
   "outputs": [
    {
     "data": {
      "text/plain": [
       "613"
      ]
     },
     "execution_count": 2,
     "metadata": {},
     "output_type": "execute_result"
    }
   ],
   "source": [
    "# List for holding lat_lngs and cities\n",
    "lat_lngs = []\n",
    "cities = []\n",
    "\n",
    "# Create a set of random lat and lng combinations\n",
    "lats = np.random.uniform(lat_range[0], lat_range[1], size=1500)\n",
    "lngs = np.random.uniform(lng_range[0], lng_range[1], size=1500)\n",
    "lat_lngs = zip(lats, lngs)\n",
    "\n",
    "# Identify nearest city for each lat, lng combination\n",
    "for lat_lng in lat_lngs:\n",
    "    city = citipy.nearest_city(lat_lng[0], lat_lng[1]).city_name\n",
    "    \n",
    "    # If the city is unique, then add it to a our cities list\n",
    "    if city not in cities:\n",
    "        cities.append(city)\n",
    "\n",
    "# Print the city count to confirm sufficient count\n",
    "len(cities)"
   ]
  },
  {
   "cell_type": "markdown",
   "metadata": {},
   "source": [
    "### Perform API Calls\n",
    "* Perform a weather check on each city using a series of successive API calls.\n",
    "* Include a print log of each city as it'sbeing processed (with the city number and city name).\n"
   ]
  },
  {
   "cell_type": "code",
   "execution_count": 3,
   "metadata": {},
   "outputs": [],
   "source": [
    "# cities"
   ]
  },
  {
   "cell_type": "code",
   "execution_count": 4,
   "metadata": {},
   "outputs": [],
   "source": [
    "# Create base url to scan API\n",
    "url = \"http://api.openweathermap.org/data/2.5/weather?&units=imperial\"\n",
    "base_url = f\"{url}&appid={weather_api_key}\""
   ]
  },
  {
   "cell_type": "code",
   "execution_count": 5,
   "metadata": {},
   "outputs": [],
   "source": [
    "# Create parameters\n",
    "# cities = cities[0:10]\n",
    "city_name = []\n",
    "lat = []\n",
    "lng = []\n",
    "max_temp = []\n",
    "humidity = []\n",
    "cloudiness = []\n",
    "wind_speed = []\n",
    "country = []\n",
    "date = []"
   ]
  },
  {
   "cell_type": "code",
   "execution_count": 6,
   "metadata": {},
   "outputs": [
    {
     "name": "stdout",
     "output_type": "stream",
     "text": [
      "{'coord': {'lon': 38.0867, 'lat': 40.1644}, 'weather': [{'id': 803, 'main': 'Clouds', 'description': 'broken clouds', 'icon': '04n'}], 'base': 'stations', 'main': {'temp': 3.45, 'feels_like': -3.78, 'temp_min': 3.45, 'temp_max': 3.45, 'pressure': 1024, 'humidity': 85, 'sea_level': 1024, 'grnd_level': 890}, 'visibility': 10000, 'wind': {'speed': 1.66, 'deg': 324}, 'clouds': {'all': 73}, 'dt': 1613620316, 'sys': {'country': 'TR', 'sunrise': 1613621827, 'sunset': 1613660780}, 'timezone': 10800, 'id': 739209, 'name': 'Suşehri', 'cod': 200}\n"
     ]
    }
   ],
   "source": [
    "# Create a for loop to go through each city. \n",
    "# Include a try/except so code doesn't break.\n",
    "counter = 0\n",
    "\n",
    "for city in cities:\n",
    "    my_city_url = base_url + '&q=' + city\n",
    "#     print(city)\n",
    "#     counter += 1\n",
    "#     if counter == 10:\n",
    "#         break\n",
    "\n",
    "    try:\n",
    "        response = requests.get(my_city_url).json()\n",
    "        city_name.append(response['name'])\n",
    "        lat.append(response['coord']['lat'])\n",
    "        lng.append(response['coord']['lon'])\n",
    "        max_temp.append(response['main']['temp_max'])\n",
    "        humidity.append(response['main']['humidity'])\n",
    "        cloudiness.append(response['clouds']['all'])\n",
    "        wind_speed.append(response['wind']['speed'])\n",
    "        country.append(response['sys']['country'])\n",
    "        date.append(response['dt'])\n",
    "        \n",
    "        time.sleep(0.5)\n",
    "        \n",
    "    except (KeyError, ValueError):\n",
    "        # Append null values\n",
    "#         print(\"Missing field...skipping.\")\n",
    "        pass\n",
    "    \n",
    "print(response)"
   ]
  },
  {
   "cell_type": "code",
   "execution_count": 7,
   "metadata": {},
   "outputs": [
    {
     "data": {
      "text/html": [
       "<div>\n",
       "<style scoped>\n",
       "    .dataframe tbody tr th:only-of-type {\n",
       "        vertical-align: middle;\n",
       "    }\n",
       "\n",
       "    .dataframe tbody tr th {\n",
       "        vertical-align: top;\n",
       "    }\n",
       "\n",
       "    .dataframe thead th {\n",
       "        text-align: right;\n",
       "    }\n",
       "</style>\n",
       "<table border=\"1\" class=\"dataframe\">\n",
       "  <thead>\n",
       "    <tr style=\"text-align: right;\">\n",
       "      <th></th>\n",
       "      <th>City</th>\n",
       "      <th>City Latitude</th>\n",
       "      <th>City Longitude</th>\n",
       "      <th>Max Temperature</th>\n",
       "      <th>Humidity</th>\n",
       "      <th>Cloud Coverage</th>\n",
       "      <th>Wind Speed</th>\n",
       "      <th>City Country</th>\n",
       "      <th>City Datetime</th>\n",
       "    </tr>\n",
       "  </thead>\n",
       "  <tbody>\n",
       "    <tr>\n",
       "      <th>0</th>\n",
       "      <td>Oranjemund</td>\n",
       "      <td>-28.5500</td>\n",
       "      <td>16.4333</td>\n",
       "      <td>64.02</td>\n",
       "      <td>84</td>\n",
       "      <td>51</td>\n",
       "      <td>8.61</td>\n",
       "      <td>NA</td>\n",
       "      <td>1613619744</td>\n",
       "    </tr>\n",
       "    <tr>\n",
       "      <th>1</th>\n",
       "      <td>Rikitea</td>\n",
       "      <td>-23.1203</td>\n",
       "      <td>-134.9692</td>\n",
       "      <td>79.23</td>\n",
       "      <td>65</td>\n",
       "      <td>13</td>\n",
       "      <td>8.77</td>\n",
       "      <td>PF</td>\n",
       "      <td>1613619599</td>\n",
       "    </tr>\n",
       "    <tr>\n",
       "      <th>2</th>\n",
       "      <td>Pilar</td>\n",
       "      <td>-9.5972</td>\n",
       "      <td>-35.9567</td>\n",
       "      <td>75.20</td>\n",
       "      <td>88</td>\n",
       "      <td>0</td>\n",
       "      <td>4.61</td>\n",
       "      <td>BR</td>\n",
       "      <td>1613619745</td>\n",
       "    </tr>\n",
       "    <tr>\n",
       "      <th>3</th>\n",
       "      <td>Viedma</td>\n",
       "      <td>-40.8135</td>\n",
       "      <td>-62.9967</td>\n",
       "      <td>66.99</td>\n",
       "      <td>75</td>\n",
       "      <td>0</td>\n",
       "      <td>16.51</td>\n",
       "      <td>AR</td>\n",
       "      <td>1613619746</td>\n",
       "    </tr>\n",
       "    <tr>\n",
       "      <th>4</th>\n",
       "      <td>Yellowknife</td>\n",
       "      <td>62.4560</td>\n",
       "      <td>-114.3525</td>\n",
       "      <td>-9.00</td>\n",
       "      <td>84</td>\n",
       "      <td>75</td>\n",
       "      <td>10.36</td>\n",
       "      <td>CA</td>\n",
       "      <td>1613619747</td>\n",
       "    </tr>\n",
       "    <tr>\n",
       "      <th>...</th>\n",
       "      <td>...</td>\n",
       "      <td>...</td>\n",
       "      <td>...</td>\n",
       "      <td>...</td>\n",
       "      <td>...</td>\n",
       "      <td>...</td>\n",
       "      <td>...</td>\n",
       "      <td>...</td>\n",
       "      <td>...</td>\n",
       "    </tr>\n",
       "    <tr>\n",
       "      <th>558</th>\n",
       "      <td>Warri</td>\n",
       "      <td>5.5167</td>\n",
       "      <td>5.7500</td>\n",
       "      <td>76.19</td>\n",
       "      <td>92</td>\n",
       "      <td>59</td>\n",
       "      <td>3.13</td>\n",
       "      <td>NG</td>\n",
       "      <td>1613620312</td>\n",
       "    </tr>\n",
       "    <tr>\n",
       "      <th>559</th>\n",
       "      <td>Rocha</td>\n",
       "      <td>-34.4833</td>\n",
       "      <td>-54.3333</td>\n",
       "      <td>64.51</td>\n",
       "      <td>95</td>\n",
       "      <td>26</td>\n",
       "      <td>6.11</td>\n",
       "      <td>UY</td>\n",
       "      <td>1613620286</td>\n",
       "    </tr>\n",
       "    <tr>\n",
       "      <th>560</th>\n",
       "      <td>Iberia</td>\n",
       "      <td>29.9502</td>\n",
       "      <td>-91.7507</td>\n",
       "      <td>37.40</td>\n",
       "      <td>93</td>\n",
       "      <td>90</td>\n",
       "      <td>12.66</td>\n",
       "      <td>US</td>\n",
       "      <td>1613620314</td>\n",
       "    </tr>\n",
       "    <tr>\n",
       "      <th>561</th>\n",
       "      <td>Yerbogachën</td>\n",
       "      <td>61.2767</td>\n",
       "      <td>108.0108</td>\n",
       "      <td>-12.06</td>\n",
       "      <td>87</td>\n",
       "      <td>94</td>\n",
       "      <td>3.71</td>\n",
       "      <td>RU</td>\n",
       "      <td>1613620315</td>\n",
       "    </tr>\n",
       "    <tr>\n",
       "      <th>562</th>\n",
       "      <td>Suşehri</td>\n",
       "      <td>40.1644</td>\n",
       "      <td>38.0867</td>\n",
       "      <td>3.45</td>\n",
       "      <td>85</td>\n",
       "      <td>73</td>\n",
       "      <td>1.66</td>\n",
       "      <td>TR</td>\n",
       "      <td>1613620316</td>\n",
       "    </tr>\n",
       "  </tbody>\n",
       "</table>\n",
       "<p>563 rows × 9 columns</p>\n",
       "</div>"
      ],
      "text/plain": [
       "            City  City Latitude  City Longitude  Max Temperature  Humidity  \\\n",
       "0     Oranjemund       -28.5500         16.4333            64.02        84   \n",
       "1        Rikitea       -23.1203       -134.9692            79.23        65   \n",
       "2          Pilar        -9.5972        -35.9567            75.20        88   \n",
       "3         Viedma       -40.8135        -62.9967            66.99        75   \n",
       "4    Yellowknife        62.4560       -114.3525            -9.00        84   \n",
       "..           ...            ...             ...              ...       ...   \n",
       "558        Warri         5.5167          5.7500            76.19        92   \n",
       "559        Rocha       -34.4833        -54.3333            64.51        95   \n",
       "560       Iberia        29.9502        -91.7507            37.40        93   \n",
       "561  Yerbogachën        61.2767        108.0108           -12.06        87   \n",
       "562      Suşehri        40.1644         38.0867             3.45        85   \n",
       "\n",
       "     Cloud Coverage  Wind Speed City Country  City Datetime  \n",
       "0                51        8.61           NA     1613619744  \n",
       "1                13        8.77           PF     1613619599  \n",
       "2                 0        4.61           BR     1613619745  \n",
       "3                 0       16.51           AR     1613619746  \n",
       "4                75       10.36           CA     1613619747  \n",
       "..              ...         ...          ...            ...  \n",
       "558              59        3.13           NG     1613620312  \n",
       "559              26        6.11           UY     1613620286  \n",
       "560              90       12.66           US     1613620314  \n",
       "561              94        3.71           RU     1613620315  \n",
       "562              73        1.66           TR     1613620316  \n",
       "\n",
       "[563 rows x 9 columns]"
      ]
     },
     "execution_count": 7,
     "metadata": {},
     "output_type": "execute_result"
    }
   ],
   "source": [
    "# Create a dataframe from the cities, lat, temp, humidity, cloudiness, and wind speed.\n",
    "city_weather_df = pd.DataFrame({\"City\": city_name,\n",
    "                                \"City Latitude\": lat,\n",
    "                                \"City Longitude\": lng,\n",
    "                                \"Max Temperature\": max_temp,\n",
    "                                \"Humidity\": humidity,\n",
    "                                \"Cloud Coverage\": cloudiness,\n",
    "                                \"Wind Speed\": wind_speed,\n",
    "                                \"City Country\": country,\n",
    "                                \"City Datetime\": date\n",
    "                               })\n",
    "\n",
    "\n",
    "city_weather_df"
   ]
  },
  {
   "cell_type": "markdown",
   "metadata": {},
   "source": [
    "### Convert Raw Data to DataFrame\n",
    "* Export the city data into a .csv.\n",
    "* Display the DataFrame"
   ]
  },
  {
   "cell_type": "code",
   "execution_count": 8,
   "metadata": {},
   "outputs": [],
   "source": [
    "# Export the city data into a .csv\n",
    "city_weather_df.to_csv(\"City_Weather.csv\", index=False)"
   ]
  },
  {
   "cell_type": "markdown",
   "metadata": {},
   "source": [
    "## Plotting the Data\n",
    "* Use proper labeling of the plots using plot titles (including date of analysis) and axes labels.\n",
    "* Save the plotted figures as .pngs."
   ]
  },
  {
   "cell_type": "markdown",
   "metadata": {},
   "source": [
    "## Latitude vs. Temperature Plot"
   ]
  },
  {
   "cell_type": "code",
   "execution_count": 9,
   "metadata": {},
   "outputs": [
    {
     "data": {
      "image/png": "[encoded data removed]",
      "text/plain": [
       "<Figure size 432x288 with 1 Axes>"
      ]
     },
     "metadata": {
      "needs_background": "light"
     },
     "output_type": "display_data"
    }
   ],
   "source": [
    "# Build a scatter plot for Latitude vs Temperature (F)\n",
    "plt.scatter(city_weather_df[\"City Latitude\"], city_weather_df[\"Max Temperature\"], marker=\"o\")\n",
    "\n",
    "# Incorporate the other graph properties\n",
    "plt.title(\"Latitude vs Temperature (F)\")\n",
    "plt.ylabel(\"Temperature (F)\")\n",
    "plt.xlabel(\"Latitude\")\n",
    "plt.grid(True)\n",
    "\n",
    "plt.savefig(\"Latitude_vs_TemperatureInWorldCities\")\n",
    "\n",
    "plt.show()"
   ]
  },
  {
   "cell_type": "markdown",
   "metadata": {},
   "source": [
    "The \"Latitude vs Temperature\" scatter plot compares the latitude with the temperature of hundreds of cities around the world."
   ]
  },
  {
   "cell_type": "markdown",
   "metadata": {},
   "source": [
    "## Latitude vs. Humidity Plot"
   ]
  },
  {
   "cell_type": "code",
   "execution_count": 10,
   "metadata": {},
   "outputs": [
    {
     "data": {
      "image/png": "[encoded data removed]",
      "text/plain": [
       "<Figure size 432x288 with 1 Axes>"
      ]
     },
     "metadata": {
      "needs_background": "light"
     },
     "output_type": "display_data"
    }
   ],
   "source": [
    "# Build a scatter plot for Latitude vs Humidity \n",
    "plt.scatter(city_weather_df[\"City Latitude\"], city_weather_df[\"Humidity\"], marker=\"o\")\n",
    "\n",
    "# Incorporate the other graph properties\n",
    "plt.title(\"Latitude vs Humidity (%)\")\n",
    "plt.ylabel(\"Humidity (%)\")\n",
    "plt.xlabel(\"Latitude\")\n",
    "plt.grid(True)\n",
    "\n",
    "plt.savefig(\"Latitude_vs_HumidityInWorldCities\")\n",
    "\n",
    "plt.show()"
   ]
  },
  {
   "cell_type": "markdown",
   "metadata": {},
   "source": [
    "The \"Latitude vs Humidity\" scatter plot compares the latitude with the humidity of hundreds of cities around the world."
   ]
  },
  {
   "cell_type": "markdown",
   "metadata": {},
   "source": [
    "## Latitude vs. Cloudiness Plot"
   ]
  },
  {
   "cell_type": "code",
   "execution_count": 11,
   "metadata": {},
   "outputs": [
    {
     "data": {
      "image/png": "[encoded data removed]",
      "text/plain": [
       "<Figure size 432x288 with 1 Axes>"
      ]
     },
     "metadata": {
      "needs_background": "light"
     },
     "output_type": "display_data"
    }
   ],
   "source": [
    "# Build a scatter plot for Latitude vs Cloudiness\n",
    "plt.scatter(city_weather_df[\"City Latitude\"], city_weather_df[\"Cloud Coverage\"], marker=\"o\")\n",
    "\n",
    "# Incorporate the other graph properties\n",
    "plt.title(\"Latitude vs Cloudiness (%)\")\n",
    "plt.ylabel(\"Cloudiness (%)\")\n",
    "plt.xlabel(\"Latitude\")\n",
    "plt.grid(True)\n",
    "\n",
    "plt.savefig(\"Latitude_vs_CloudinessInWorldCities\")\n",
    "\n",
    "plt.show()"
   ]
  },
  {
   "cell_type": "markdown",
   "metadata": {},
   "source": [
    "The \"Latitude vs Cloudiness\" scatter plot compares the latitude with the cloudiness in hundreds of cities around the world."
   ]
  },
  {
   "cell_type": "markdown",
   "metadata": {},
   "source": [
    "## Latitude vs. Wind Speed Plot"
   ]
  },
  {
   "cell_type": "code",
   "execution_count": 12,
   "metadata": {},
   "outputs": [
    {
     "data": {
      "image/png": "[encoded data removed]",
      "text/plain": [
       "<Figure size 432x288 with 1 Axes>"
      ]
     },
     "metadata": {
      "needs_background": "light"
     },
     "output_type": "display_data"
    }
   ],
   "source": [
    "# Build a scatter plot for Latitude vs Wind Speed (mph)\n",
    "plt.scatter(city_weather_df[\"City Latitude\"], city_weather_df[\"Wind Speed\"], marker=\"o\")\n",
    "\n",
    "# Incorporate the other graph properties\n",
    "plt.title(\"Latitude vs Wind Speed (mph)\")\n",
    "plt.ylabel(\"Wind Speed (mph)\")\n",
    "plt.xlabel(\"Latitude\")\n",
    "plt.grid(True)\n",
    "\n",
    "plt.savefig(\"Latitude_vs_Wind_SpeedInWorldCities\")\n",
    "\n",
    "plt.show()"
   ]
  },
  {
   "cell_type": "markdown",
   "metadata": {},
   "source": [
    "The \"Latitude vs Wind Speed\" scatter plot compares the latitude with the wind speed in hundreds of cities around the world."
   ]
  },
  {
   "cell_type": "markdown",
   "metadata": {},
   "source": [
    "## Inspect the data and remove the cities where the humidity > 100%.\n",
    "----\n",
    "Skip this step if there are no cities that have humidity > 100%. "
   ]
  },
  {
   "cell_type": "code",
   "execution_count": 13,
   "metadata": {},
   "outputs": [
    {
     "data": {
      "text/plain": [
       "100"
      ]
     },
     "execution_count": 13,
     "metadata": {},
     "output_type": "execute_result"
    }
   ],
   "source": [
    "city_weather_df[\"Humidity\"].max()"
   ]
  },
  {
   "cell_type": "code",
   "execution_count": 14,
   "metadata": {},
   "outputs": [
    {
     "data": {
      "text/html": [
       "<div>\n",
       "<style scoped>\n",
       "    .dataframe tbody tr th:only-of-type {\n",
       "        vertical-align: middle;\n",
       "    }\n",
       "\n",
       "    .dataframe tbody tr th {\n",
       "        vertical-align: top;\n",
       "    }\n",
       "\n",
       "    .dataframe thead th {\n",
       "        text-align: right;\n",
       "    }\n",
       "</style>\n",
       "<table border=\"1\" class=\"dataframe\">\n",
       "  <thead>\n",
       "    <tr style=\"text-align: right;\">\n",
       "      <th></th>\n",
       "      <th>City</th>\n",
       "      <th>City Latitude</th>\n",
       "      <th>City Longitude</th>\n",
       "      <th>Max Temperature</th>\n",
       "      <th>Humidity</th>\n",
       "      <th>Cloud Coverage</th>\n",
       "      <th>Wind Speed</th>\n",
       "      <th>City Country</th>\n",
       "      <th>City Datetime</th>\n",
       "    </tr>\n",
       "  </thead>\n",
       "  <tbody>\n",
       "    <tr>\n",
       "      <th>0</th>\n",
       "      <td>Oranjemund</td>\n",
       "      <td>-28.5500</td>\n",
       "      <td>16.4333</td>\n",
       "      <td>64.02</td>\n",
       "      <td>84</td>\n",
       "      <td>51</td>\n",
       "      <td>8.61</td>\n",
       "      <td>NA</td>\n",
       "      <td>1613619744</td>\n",
       "    </tr>\n",
       "    <tr>\n",
       "      <th>1</th>\n",
       "      <td>Rikitea</td>\n",
       "      <td>-23.1203</td>\n",
       "      <td>-134.9692</td>\n",
       "      <td>79.23</td>\n",
       "      <td>65</td>\n",
       "      <td>13</td>\n",
       "      <td>8.77</td>\n",
       "      <td>PF</td>\n",
       "      <td>1613619599</td>\n",
       "    </tr>\n",
       "    <tr>\n",
       "      <th>2</th>\n",
       "      <td>Pilar</td>\n",
       "      <td>-9.5972</td>\n",
       "      <td>-35.9567</td>\n",
       "      <td>75.20</td>\n",
       "      <td>88</td>\n",
       "      <td>0</td>\n",
       "      <td>4.61</td>\n",
       "      <td>BR</td>\n",
       "      <td>1613619745</td>\n",
       "    </tr>\n",
       "    <tr>\n",
       "      <th>3</th>\n",
       "      <td>Viedma</td>\n",
       "      <td>-40.8135</td>\n",
       "      <td>-62.9967</td>\n",
       "      <td>66.99</td>\n",
       "      <td>75</td>\n",
       "      <td>0</td>\n",
       "      <td>16.51</td>\n",
       "      <td>AR</td>\n",
       "      <td>1613619746</td>\n",
       "    </tr>\n",
       "    <tr>\n",
       "      <th>4</th>\n",
       "      <td>Yellowknife</td>\n",
       "      <td>62.4560</td>\n",
       "      <td>-114.3525</td>\n",
       "      <td>-9.00</td>\n",
       "      <td>84</td>\n",
       "      <td>75</td>\n",
       "      <td>10.36</td>\n",
       "      <td>CA</td>\n",
       "      <td>1613619747</td>\n",
       "    </tr>\n",
       "    <tr>\n",
       "      <th>...</th>\n",
       "      <td>...</td>\n",
       "      <td>...</td>\n",
       "      <td>...</td>\n",
       "      <td>...</td>\n",
       "      <td>...</td>\n",
       "      <td>...</td>\n",
       "      <td>...</td>\n",
       "      <td>...</td>\n",
       "      <td>...</td>\n",
       "    </tr>\n",
       "    <tr>\n",
       "      <th>558</th>\n",
       "      <td>Warri</td>\n",
       "      <td>5.5167</td>\n",
       "      <td>5.7500</td>\n",
       "      <td>76.19</td>\n",
       "      <td>92</td>\n",
       "      <td>59</td>\n",
       "      <td>3.13</td>\n",
       "      <td>NG</td>\n",
       "      <td>1613620312</td>\n",
       "    </tr>\n",
       "    <tr>\n",
       "      <th>559</th>\n",
       "      <td>Rocha</td>\n",
       "      <td>-34.4833</td>\n",
       "      <td>-54.3333</td>\n",
       "      <td>64.51</td>\n",
       "      <td>95</td>\n",
       "      <td>26</td>\n",
       "      <td>6.11</td>\n",
       "      <td>UY</td>\n",
       "      <td>1613620286</td>\n",
       "    </tr>\n",
       "    <tr>\n",
       "      <th>560</th>\n",
       "      <td>Iberia</td>\n",
       "      <td>29.9502</td>\n",
       "      <td>-91.7507</td>\n",
       "      <td>37.40</td>\n",
       "      <td>93</td>\n",
       "      <td>90</td>\n",
       "      <td>12.66</td>\n",
       "      <td>US</td>\n",
       "      <td>1613620314</td>\n",
       "    </tr>\n",
       "    <tr>\n",
       "      <th>561</th>\n",
       "      <td>Yerbogachën</td>\n",
       "      <td>61.2767</td>\n",
       "      <td>108.0108</td>\n",
       "      <td>-12.06</td>\n",
       "      <td>87</td>\n",
       "      <td>94</td>\n",
       "      <td>3.71</td>\n",
       "      <td>RU</td>\n",
       "      <td>1613620315</td>\n",
       "    </tr>\n",
       "    <tr>\n",
       "      <th>562</th>\n",
       "      <td>Suşehri</td>\n",
       "      <td>40.1644</td>\n",
       "      <td>38.0867</td>\n",
       "      <td>3.45</td>\n",
       "      <td>85</td>\n",
       "      <td>73</td>\n",
       "      <td>1.66</td>\n",
       "      <td>TR</td>\n",
       "      <td>1613620316</td>\n",
       "    </tr>\n",
       "  </tbody>\n",
       "</table>\n",
       "<p>563 rows × 9 columns</p>\n",
       "</div>"
      ],
      "text/plain": [
       "            City  City Latitude  City Longitude  Max Temperature  Humidity  \\\n",
       "0     Oranjemund       -28.5500         16.4333            64.02        84   \n",
       "1        Rikitea       -23.1203       -134.9692            79.23        65   \n",
       "2          Pilar        -9.5972        -35.9567            75.20        88   \n",
       "3         Viedma       -40.8135        -62.9967            66.99        75   \n",
       "4    Yellowknife        62.4560       -114.3525            -9.00        84   \n",
       "..           ...            ...             ...              ...       ...   \n",
       "558        Warri         5.5167          5.7500            76.19        92   \n",
       "559        Rocha       -34.4833        -54.3333            64.51        95   \n",
       "560       Iberia        29.9502        -91.7507            37.40        93   \n",
       "561  Yerbogachën        61.2767        108.0108           -12.06        87   \n",
       "562      Suşehri        40.1644         38.0867             3.45        85   \n",
       "\n",
       "     Cloud Coverage  Wind Speed City Country  City Datetime  \n",
       "0                51        8.61           NA     1613619744  \n",
       "1                13        8.77           PF     1613619599  \n",
       "2                 0        4.61           BR     1613619745  \n",
       "3                 0       16.51           AR     1613619746  \n",
       "4                75       10.36           CA     1613619747  \n",
       "..              ...         ...          ...            ...  \n",
       "558              59        3.13           NG     1613620312  \n",
       "559              26        6.11           UY     1613620286  \n",
       "560              90       12.66           US     1613620314  \n",
       "561              94        3.71           RU     1613620315  \n",
       "562              73        1.66           TR     1613620316  \n",
       "\n",
       "[563 rows x 9 columns]"
      ]
     },
     "execution_count": 14,
     "metadata": {},
     "output_type": "execute_result"
    }
   ],
   "source": [
    "# Make a new DataFrame equal to the city data to drop all humidity outliers by index.\n",
    "# Passing \"inplace=False\" will make a copy of the city_data DataFrame, which we call \"clean_city_data\".\n",
    "city_weather_df.dropna(inplace=True)\n",
    "city_weather_df.reset_index(drop=True, inplace=True)\n",
    "city_weather_df"
   ]
  },
  {
   "cell_type": "markdown",
   "metadata": {},
   "source": [
    "## Linear Regression"
   ]
  },
  {
   "cell_type": "markdown",
   "metadata": {},
   "source": [
    "####  Northern Hemisphere - Max Temp vs. Latitude Linear Regression"
   ]
  },
  {
   "cell_type": "code",
   "execution_count": 15,
   "metadata": {},
   "outputs": [
    {
     "name": "stdout",
     "output_type": "stream",
     "text": [
      "4       4.185085\n",
      "6      41.599848\n",
      "8      36.573102\n",
      "11      6.538312\n",
      "12      3.364673\n",
      "         ...    \n",
      "557    39.789142\n",
      "558    82.827591\n",
      "560    49.080922\n",
      "561     5.813891\n",
      "562    34.973438\n",
      "Name: City Latitude, Length: 373, dtype: float64\n"
     ]
    }
   ],
   "source": [
    "# Find Northern Hemisphere cities with a latitude greater than '0'\n",
    "northern_lats = city_weather_df.loc[(city_weather_df['City Latitude'] > 0)]\n",
    "\n",
    "# Define variables\n",
    "north_latitude = northern_lats[\"City Latitude\"]\n",
    "north_max_temp = northern_lats[\"Max Temperature\"]\n",
    "\n",
    "# Perform a linear regression on temperature vs. latitude\n",
    "(slope, intercept, rvalue, pvalue, stderr) = linregress(north_latitude, north_max_temp)\n",
    "\n",
    "# Get regression values\n",
    "regress_values_north = north_latitude * slope + intercept\n",
    "print(regress_values_north)\n"
   ]
  },
  {
   "cell_type": "code",
   "execution_count": 16,
   "metadata": {},
   "outputs": [
    {
     "name": "stdout",
     "output_type": "stream",
     "text": [
      "y = -1.38x +90.45\n"
     ]
    }
   ],
   "source": [
    "# Create line equation string\n",
    "line_eq = \"y = \" + str(round(slope,2)) + \"x +\" + str(round(intercept,2))\n",
    "print(line_eq)"
   ]
  },
  {
   "cell_type": "code",
   "execution_count": 17,
   "metadata": {},
   "outputs": [
    {
     "name": "stdout",
     "output_type": "stream",
     "text": [
      "The r-value is 0.7644351692195954\n"
     ]
    },
    {
     "data": {
      "image/png": "[encoded data removed]",
      "text/plain": [
       "<Figure size 432x288 with 1 Axes>"
      ]
     },
     "metadata": {
      "needs_background": "light"
     },
     "output_type": "display_data"
    }
   ],
   "source": [
    "# Create plot\n",
    "plt.scatter(north_latitude, north_max_temp)\n",
    "plt.plot(north_latitude,regress_values_north, \"r-\")\n",
    "\n",
    "#Label plot and annotate the line equation\n",
    "plt.title(\"Northern Hemisphere - Max Temp (F) vs. Latitude\")\n",
    "plt.xlabel('Latitude')\n",
    "plt.ylabel('Temperature (F)')\n",
    "plt.annotate(line_eq,(35, 80),fontsize=15,color=\"red\")\n",
    "\n",
    "# Print r value\n",
    "print(f\"The r-value is {rvalue**2}\")\n",
    "\n",
    "# Show plot\n",
    "plt.show()"
   ]
  },
  {
   "cell_type": "markdown",
   "metadata": {},
   "source": [
    "####  Southern Hemisphere - Max Temp vs. Latitude Linear Regression"
   ]
  },
  {
   "cell_type": "code",
   "execution_count": 18,
   "metadata": {},
   "outputs": [
    {
     "name": "stdout",
     "output_type": "stream",
     "text": [
      "0      71.787732\n",
      "1      73.377263\n",
      "2      77.336117\n",
      "3      68.197622\n",
      "5      71.146205\n",
      "         ...    \n",
      "542    72.738956\n",
      "544    76.083948\n",
      "548    74.156147\n",
      "552    70.631379\n",
      "559    70.050773\n",
      "Name: City Latitude, Length: 190, dtype: float64\n"
     ]
    }
   ],
   "source": [
    "# Find Southern Hemisphere cities with a latitude less than '0'\n",
    "southern_lats = city_weather_df.loc[(city_weather_df['City Latitude'] < 0)]\n",
    "\n",
    "# Define variables\n",
    "south_latitude = southern_lats[\"City Latitude\"]\n",
    "south_max_temp = southern_lats[\"Max Temperature\"]\n",
    "\n",
    "# Perform a linear regression on temperature vs. latitude\n",
    "(slope, intercept, rvalue, pvalue, stderr) = linregress(south_latitude, south_max_temp)\n",
    "\n",
    "# Get regression values\n",
    "regress_values_south = south_latitude * slope + intercept\n",
    "print(regress_values_south)"
   ]
  },
  {
   "cell_type": "code",
   "execution_count": 19,
   "metadata": {},
   "outputs": [
    {
     "name": "stdout",
     "output_type": "stream",
     "text": [
      "y = 0.29x +80.15\n"
     ]
    }
   ],
   "source": [
    "# Create line equation string\n",
    "line_eq = \"y = \" + str(round(slope,2)) + \"x +\" + str(round(intercept,2))\n",
    "print(line_eq)"
   ]
  },
  {
   "cell_type": "code",
   "execution_count": 20,
   "metadata": {},
   "outputs": [
    {
     "name": "stdout",
     "output_type": "stream",
     "text": [
      "The r-value is 0.14767782425472184\n"
     ]
    },
    {
     "data": {
      "image/png": "[encoded data removed]",
      "text/plain": [
       "<Figure size 432x288 with 1 Axes>"
      ]
     },
     "metadata": {
      "needs_background": "light"
     },
     "output_type": "display_data"
    }
   ],
   "source": [
    "# Create plot\n",
    "plt.scatter(south_latitude, south_max_temp)\n",
    "plt.plot(south_latitude,regress_values_south, \"r-\")\n",
    "\n",
    "#Label plot and annotate the line equation\n",
    "plt.title(\"Southern Hemisphere - Max Temp (F) vs. Latitude\")\n",
    "plt.xlabel('Latitude')\n",
    "plt.ylabel('Temperature (F)')\n",
    "plt.annotate(line_eq,(-30, 54),fontsize=15,color=\"red\")\n",
    "\n",
    "# Print r value\n",
    "print(f\"The r-value is {rvalue**2}\")\n",
    "\n",
    "# Show plot\n",
    "plt.show()"
   ]
  },
  {
   "cell_type": "markdown",
   "metadata": {},
   "source": [
    "####  Northern Hemisphere - Humidity (%) vs. Latitude Linear Regression"
   ]
  },
  {
   "cell_type": "code",
   "execution_count": 21,
   "metadata": {},
   "outputs": [
    {
     "name": "stdout",
     "output_type": "stream",
     "text": [
      "4      79.556396\n",
      "6      70.625220\n",
      "8      71.825141\n",
      "11     78.994663\n",
      "12     79.752234\n",
      "         ...    \n",
      "557    71.057449\n",
      "558    60.783859\n",
      "560    68.839433\n",
      "561    79.167588\n",
      "562    72.206992\n",
      "Name: City Latitude, Length: 373, dtype: float64\n"
     ]
    }
   ],
   "source": [
    "# Find Northern Hemisphere cities with a latitude greater than '0'\n",
    "northern_lats = city_weather_df.loc[(city_weather_df['City Latitude'] > 0)]\n",
    "\n",
    "# Define variables\n",
    "north_latitude = northern_lats[\"City Latitude\"]\n",
    "north_humidity = northern_lats[\"Humidity\"]\n",
    "\n",
    "# Perform a linear regression on humidity vs. latitude\n",
    "(slope, intercept, rvalue, pvalue, stderr) = linregress(north_latitude, north_humidity)\n",
    "\n",
    "# Get regression values\n",
    "regress_values_north = north_latitude * slope + intercept\n",
    "print(regress_values_north)"
   ]
  },
  {
   "cell_type": "code",
   "execution_count": 22,
   "metadata": {},
   "outputs": [
    {
     "name": "stdout",
     "output_type": "stream",
     "text": [
      "y = 0.33x +58.97\n"
     ]
    }
   ],
   "source": [
    "# Create line equation string\n",
    "line_eq = \"y = \" + str(round(slope,2)) + \"x +\" + str(round(intercept,2))\n",
    "print(line_eq)"
   ]
  },
  {
   "cell_type": "code",
   "execution_count": 23,
   "metadata": {},
   "outputs": [
    {
     "name": "stdout",
     "output_type": "stream",
     "text": [
      "The r-value is 0.12450311327013631\n"
     ]
    },
    {
     "data": {
      "image/png": "[encoded data removed]",
      "text/plain": [
       "<Figure size 432x288 with 1 Axes>"
      ]
     },
     "metadata": {
      "needs_background": "light"
     },
     "output_type": "display_data"
    }
   ],
   "source": [
    "# Create plot\n",
    "plt.scatter(north_latitude, north_humidity)\n",
    "plt.plot(north_latitude,regress_values_north, \"r-\")\n",
    "\n",
    "#Label plot and annotate the line equation\n",
    "plt.title(\"Northern Hemisphere - Humidity (%) vs. Latitude\")\n",
    "plt.xlabel('Latitude')\n",
    "plt.ylabel('Humidity (%)')\n",
    "plt.annotate(line_eq,(46, 30),fontsize=15,color=\"red\")\n",
    "\n",
    "# Print r value\n",
    "print(f\"The r-value is {rvalue**2}\")\n",
    "\n",
    "# Show plot\n",
    "plt.show()"
   ]
  },
  {
   "cell_type": "markdown",
   "metadata": {},
   "source": [
    "####  Southern Hemisphere - Humidity (%) vs. Latitude Linear Regression"
   ]
  },
  {
   "cell_type": "code",
   "execution_count": 24,
   "metadata": {},
   "outputs": [
    {
     "name": "stdout",
     "output_type": "stream",
     "text": [
      "0      72.770951\n",
      "1      75.285465\n",
      "2      81.548061\n",
      "3      67.091680\n",
      "5      71.756106\n",
      "         ...    \n",
      "542    74.275714\n",
      "544    79.567228\n",
      "548    76.517598\n",
      "552    70.941692\n",
      "559    70.023219\n",
      "Name: City Latitude, Length: 190, dtype: float64\n"
     ]
    }
   ],
   "source": [
    "# Find Southern Hemisphere cities with a latitude less than '0'\n",
    "southern_lats = city_weather_df.loc[(city_weather_df['City Latitude'] < 0)]\n",
    "\n",
    "# Define variables\n",
    "south_latitude = southern_lats[\"City Latitude\"]\n",
    "south_humidity = southern_lats[\"Humidity\"]\n",
    "\n",
    "# Perform a linear regression on humidity vs. latitude\n",
    "(slope, intercept, rvalue, pvalue, stderr) = linregress(south_latitude, south_humidity)\n",
    "\n",
    "# Get regression values\n",
    "regress_values_south = south_latitude * slope + intercept\n",
    "print(regress_values_south)"
   ]
  },
  {
   "cell_type": "code",
   "execution_count": 25,
   "metadata": {},
   "outputs": [
    {
     "name": "stdout",
     "output_type": "stream",
     "text": [
      "y = 0.46x +85.99\n"
     ]
    }
   ],
   "source": [
    "# Create line equation string\n",
    "line_eq = \"y = \" + str(round(slope,2)) + \"x +\" + str(round(intercept,2))\n",
    "print(line_eq)"
   ]
  },
  {
   "cell_type": "code",
   "execution_count": 26,
   "metadata": {},
   "outputs": [
    {
     "name": "stdout",
     "output_type": "stream",
     "text": [
      "The r-value is 0.12317487564861807\n"
     ]
    },
    {
     "data": {
      "image/png": "[encoded data removed]",
      "text/plain": [
       "<Figure size 432x288 with 1 Axes>"
      ]
     },
     "metadata": {
      "needs_background": "light"
     },
     "output_type": "display_data"
    }
   ],
   "source": [
    "# Create plot\n",
    "plt.scatter(south_latitude, south_humidity)\n",
    "plt.plot(south_latitude,regress_values_south, \"r-\")\n",
    "\n",
    "#Label plot and annotate the line equation\n",
    "plt.title(\"Southern Hemisphere - Humidity (%) vs. Latitude\")\n",
    "plt.xlabel('Latitude')\n",
    "plt.ylabel('Humdidty (%)')\n",
    "plt.annotate(line_eq,(-30, 58),fontsize=15,color=\"red\")\n",
    "\n",
    "# Print r value\n",
    "print(f\"The r-value is {rvalue**2}\")\n",
    "\n",
    "# Show plot\n",
    "plt.show()"
   ]
  },
  {
   "cell_type": "markdown",
   "metadata": {},
   "source": [
    "####  Northern Hemisphere - Cloudiness (%) vs. Latitude Linear Regression"
   ]
  },
  {
   "cell_type": "code",
   "execution_count": 27,
   "metadata": {},
   "outputs": [
    {
     "name": "stdout",
     "output_type": "stream",
     "text": [
      "4      59.029535\n",
      "6      51.674310\n",
      "8      52.662499\n",
      "11     58.566923\n",
      "12     59.190816\n",
      "         ...    \n",
      "557    52.030270\n",
      "558    43.569507\n",
      "560    50.203634\n",
      "561    58.709334\n",
      "562    52.976971\n",
      "Name: City Latitude, Length: 373, dtype: float64\n"
     ]
    }
   ],
   "source": [
    "# Find Northern Hemisphere cities with a latitude greater than '0'\n",
    "northern_lats = city_weather_df.loc[(city_weather_df['City Latitude'] > 0)]\n",
    "\n",
    "# Define variables\n",
    "north_latitude = northern_lats[\"City Latitude\"]\n",
    "north_cloudiness = northern_lats[\"Cloud Coverage\"]\n",
    "\n",
    "# Perform a linear regression on cloudiness vs. latitude\n",
    "(slope, intercept, rvalue, pvalue, stderr) = linregress(north_latitude, north_cloudiness)\n",
    "\n",
    "# Get regression values\n",
    "regress_values_north = north_latitude * slope + intercept\n",
    "print(regress_values_north)"
   ]
  },
  {
   "cell_type": "code",
   "execution_count": 28,
   "metadata": {},
   "outputs": [
    {
     "name": "stdout",
     "output_type": "stream",
     "text": [
      "y = 0.27x +42.07\n"
     ]
    }
   ],
   "source": [
    "# Create line equation string\n",
    "line_eq = \"y = \" + str(round(slope,2)) + \"x +\" + str(round(intercept,2))\n",
    "print(line_eq)"
   ]
  },
  {
   "cell_type": "code",
   "execution_count": 29,
   "metadata": {},
   "outputs": [
    {
     "name": "stdout",
     "output_type": "stream",
     "text": [
      "The r-value is 0.020745066711472877\n"
     ]
    },
    {
     "data": {
      "image/png": "[encoded data removed]",
      "text/plain": [
       "<Figure size 432x288 with 1 Axes>"
      ]
     },
     "metadata": {
      "needs_background": "light"
     },
     "output_type": "display_data"
    }
   ],
   "source": [
    "# Create plot\n",
    "plt.scatter(north_latitude, north_cloudiness)\n",
    "plt.plot(north_latitude,regress_values_north, \"r-\")\n",
    "\n",
    "#Label plot and annotate the line equation\n",
    "plt.title(\"Northern Hemisphere - Cloudiness (%) vs. Latitude\")\n",
    "plt.xlabel('Latitude')\n",
    "plt.ylabel('Cloudiness (%)')\n",
    "plt.annotate(line_eq,(32, 30),fontsize=15,color=\"red\")\n",
    "\n",
    "# Print r value\n",
    "print(f\"The r-value is {rvalue**2}\")\n",
    "\n",
    "# Show plot\n",
    "plt.show()"
   ]
  },
  {
   "cell_type": "markdown",
   "metadata": {},
   "source": [
    "####  Southern Hemisphere - Cloudiness (%) vs. Latitude Linear Regression"
   ]
  },
  {
   "cell_type": "code",
   "execution_count": 30,
   "metadata": {},
   "outputs": [
    {
     "name": "stdout",
     "output_type": "stream",
     "text": [
      "0      39.735049\n",
      "1      47.692844\n",
      "2      67.512365\n",
      "3      21.761603\n",
      "5      36.523323\n",
      "         ...    \n",
      "542    44.497239\n",
      "544    61.243534\n",
      "548    51.592232\n",
      "552    33.945910\n",
      "559    31.039176\n",
      "Name: City Latitude, Length: 190, dtype: float64\n"
     ]
    }
   ],
   "source": [
    "# Find Southern Hemisphere cities with a latitude less than '0'\n",
    "southern_lats = city_weather_df.loc[(city_weather_df['City Latitude'] < 0)]\n",
    "\n",
    "# Define variables\n",
    "south_latitude = southern_lats[\"City Latitude\"]\n",
    "south_cloudiness = southern_lats[\"Cloud Coverage\"]\n",
    "\n",
    "# Perform a linear regression on cloudiness vs. latitude\n",
    "(slope, intercept, rvalue, pvalue, stderr) = linregress(south_latitude, south_cloudiness)\n",
    "\n",
    "# Get regression values\n",
    "regress_values_south = south_latitude * slope + intercept\n",
    "print(regress_values_south)"
   ]
  },
  {
   "cell_type": "code",
   "execution_count": 31,
   "metadata": {},
   "outputs": [
    {
     "name": "stdout",
     "output_type": "stream",
     "text": [
      "y = 1.47x +81.58\n"
     ]
    }
   ],
   "source": [
    "# Create line equation string\n",
    "line_eq = \"y = \" + str(round(slope,2)) + \"x +\" + str(round(intercept,2))\n",
    "print(line_eq)"
   ]
  },
  {
   "cell_type": "code",
   "execution_count": 32,
   "metadata": {},
   "outputs": [
    {
     "name": "stdout",
     "output_type": "stream",
     "text": [
      "The r-value is 0.2223942608108917\n"
     ]
    },
    {
     "data": {
      "image/png": "[encoded data removed]",
      "text/plain": [
       "<Figure size 432x288 with 1 Axes>"
      ]
     },
     "metadata": {
      "needs_background": "light"
     },
     "output_type": "display_data"
    }
   ],
   "source": [
    "# Create plot\n",
    "plt.scatter(south_latitude, south_cloudiness)\n",
    "plt.plot(south_latitude,regress_values_south, \"r-\")\n",
    "\n",
    "#Label plot and annotate the line equation\n",
    "plt.title(\"Southern Hemisphere - Cloudiness (%) vs. Latitude\")\n",
    "plt.xlabel('Latitude')\n",
    "plt.ylabel('Cloudiness (%)')\n",
    "plt.annotate(line_eq,(-26, 25),fontsize=15,color=\"red\")\n",
    "\n",
    "# Print r value\n",
    "print(f\"The r-value is {rvalue**2}\")\n",
    "\n",
    "# Show plot\n",
    "plt.show()"
   ]
  },
  {
   "cell_type": "markdown",
   "metadata": {},
   "source": [
    "####  Northern Hemisphere - Wind Speed (mph) vs. Latitude Linear Regression"
   ]
  },
  {
   "cell_type": "code",
   "execution_count": 33,
   "metadata": {},
   "outputs": [
    {
     "name": "stdout",
     "output_type": "stream",
     "text": [
      "4      7.217687\n",
      "6      8.344270\n",
      "8      8.192911\n",
      "11     7.288544\n",
      "12     7.192984\n",
      "         ...   \n",
      "557    8.289748\n",
      "558    9.585664\n",
      "560    8.569530\n",
      "561    7.266731\n",
      "562    8.144744\n",
      "Name: City Latitude, Length: 373, dtype: float64\n"
     ]
    }
   ],
   "source": [
    "# Find Northern Hemisphere cities with a latitude greater than '0'\n",
    "northern_lats = city_weather_df.loc[(city_weather_df['City Latitude'] > 0)]\n",
    "\n",
    "# Define variables\n",
    "north_latitude = northern_lats[\"City Latitude\"]\n",
    "north_wind_speed = northern_lats[\"Wind Speed\"]\n",
    "\n",
    "# Perform a linear regression on wind speed vs. latitude\n",
    "(slope, intercept, rvalue, pvalue, stderr) = linregress(north_latitude, north_wind_speed)\n",
    "\n",
    "# Get regression values\n",
    "regress_values_north = north_latitude * slope + intercept\n",
    "print(regress_values_north)"
   ]
  },
  {
   "cell_type": "code",
   "execution_count": 34,
   "metadata": {},
   "outputs": [
    {
     "name": "stdout",
     "output_type": "stream",
     "text": [
      "y = -0.04x +9.82\n"
     ]
    }
   ],
   "source": [
    "# Create line equation string\n",
    "line_eq = \"y = \" + str(round(slope,2)) + \"x +\" + str(round(intercept,2))\n",
    "print(line_eq)"
   ]
  },
  {
   "cell_type": "code",
   "execution_count": 35,
   "metadata": {},
   "outputs": [
    {
     "name": "stdout",
     "output_type": "stream",
     "text": [
      "The r-value is 0.025357940609690748\n"
     ]
    },
    {
     "data": {
      "image/png": "[encoded data removed]",
      "text/plain": [
       "<Figure size 432x288 with 1 Axes>"
      ]
     },
     "metadata": {
      "needs_background": "light"
     },
     "output_type": "display_data"
    }
   ],
   "source": [
    "# Create plot\n",
    "plt.scatter(north_latitude, north_wind_speed)\n",
    "plt.plot(north_latitude,regress_values_north, \"r-\")\n",
    "\n",
    "#Label plot and annotate the line equation\n",
    "plt.title(\"Northern Hemisphere - Wind Speed (mph) vs. Latitude\")\n",
    "plt.xlabel('Latitude')\n",
    "plt.ylabel('Wind Speed (mph)')\n",
    "plt.annotate(line_eq,(5, 27),fontsize=15,color=\"red\")\n",
    "\n",
    "# Print r value\n",
    "print(f\"The r-value is {rvalue**2}\")\n",
    "\n",
    "# Show plot\n",
    "plt.show()"
   ]
  },
  {
   "cell_type": "markdown",
   "metadata": {},
   "source": [
    "####  Southern Hemisphere - Wind Speed (mph) vs. Latitude Linear Regression"
   ]
  },
  {
   "cell_type": "code",
   "execution_count": 36,
   "metadata": {},
   "outputs": [
    {
     "name": "stdout",
     "output_type": "stream",
     "text": [
      "0      7.723219\n",
      "1      7.233480\n",
      "2      6.013748\n",
      "3      8.829340\n",
      "5      7.920875\n",
      "         ...   \n",
      "542    7.430144\n",
      "544    6.399544\n",
      "548    6.993504\n",
      "552    8.079494\n",
      "559    8.258380\n",
      "Name: City Latitude, Length: 190, dtype: float64\n"
     ]
    }
   ],
   "source": [
    "# Find Southern Hemisphere cities with a latitude less than '0'\n",
    "southern_lats = city_weather_df.loc[(city_weather_df['City Latitude'] < 0)]\n",
    "\n",
    "# Define variables\n",
    "south_latitude = southern_lats[\"City Latitude\"]\n",
    "south_wind_speed = southern_lats[\"Wind Speed\"]\n",
    "\n",
    "# Perform a linear regression on wind speed vs. latitude\n",
    "(slope, intercept, rvalue, pvalue, stderr) = linregress(south_latitude, south_wind_speed)\n",
    "\n",
    "# Get regression values\n",
    "regress_values_south = south_latitude * slope + intercept\n",
    "print(regress_values_south)"
   ]
  },
  {
   "cell_type": "code",
   "execution_count": 37,
   "metadata": {},
   "outputs": [
    {
     "name": "stdout",
     "output_type": "stream",
     "text": [
      "y = -0.09x +5.15\n"
     ]
    }
   ],
   "source": [
    "# Create line equation string\n",
    "line_eq = \"y = \" + str(round(slope,2)) + \"x +\" + str(round(intercept,2))\n",
    "print(line_eq)"
   ]
  },
  {
   "cell_type": "code",
   "execution_count": 38,
   "metadata": {},
   "outputs": [
    {
     "name": "stdout",
     "output_type": "stream",
     "text": [
      "The r-value is 0.05790652671516946\n"
     ]
    },
    {
     "data": {
      "image/png": "[encoded data removed]",
      "text/plain": [
       "<Figure size 432x288 with 1 Axes>"
      ]
     },
     "metadata": {
      "needs_background": "light"
     },
     "output_type": "display_data"
    }
   ],
   "source": [
    "# Create plot\n",
    "plt.scatter(south_latitude, south_wind_speed)\n",
    "plt.plot(south_latitude,regress_values_south, \"r-\")\n",
    "\n",
    "#Label plot and annotate the line equation\n",
    "plt.title(\"Southern Hemisphere - Wind Speed (mph) vs. Latitude\")\n",
    "plt.xlabel('Latitude')\n",
    "plt.ylabel('Wind Speed (mph)')\n",
    "plt.annotate(line_eq,(-30, 17),fontsize=15,color=\"red\")\n",
    "\n",
    "# Print r value\n",
    "print(f\"The r-value is {rvalue**2}\")\n",
    "\n",
    "# Show plot\n",
    "plt.show()"
   ]
  },
  {
   "cell_type": "code",
   "execution_count": null,
   "metadata": {},
   "outputs": [],
   "source": []
  }
 ],
 "metadata": {
  "anaconda-cloud": {},
  "kernel_info": {
   "name": "python3"
  },
  "kernelspec": {
   "display_name": "Python 3",
   "language": "python",
   "name": "python3"
  },
  "language_info": {
   "codemirror_mode": {
    "name": "ipython",
    "version": 3
   },
   "file_extension": ".py",
   "mimetype": "text/x-python",
   "name": "python",
   "nbconvert_exporter": "python",
   "pygments_lexer": "ipython3",
   "version": "3.6.10"
  },
  "latex_envs": {
   "LaTeX_envs_menu_present": true,
   "autoclose": false,
   "autocomplete": true,
   "bibliofile": "biblio.bib",
   "cite_by": "apalike",
   "current_citInitial": 1,
   "eqLabelWithNumbers": true,
   "eqNumInitial": 1,
   "hotkeys": {
    "equation": "Ctrl-E",
    "itemize": "Ctrl-I"
   },
   "labels_anchors": false,
   "latex_user_defs": false,
   "report_style_numbering": false,
   "user_envs_cfg": false
  },
  "nteract": {
   "version": "0.12.3"
  }
 },
 "nbformat": 4,
 "nbformat_minor": 2
}
