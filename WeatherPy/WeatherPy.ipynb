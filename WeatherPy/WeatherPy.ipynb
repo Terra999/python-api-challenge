{
 "cells": [
  {
   "cell_type": "markdown",
   "metadata": {},
   "source": [
    "# WeatherPy\n",
    "----\n",
    "\n",
    "#### Note\n",
    "* Instructions have been included for each segment. You do not have to follow them exactly, but they are included to help you think through the steps."
   ]
  },
  {
   "cell_type": "code",
   "execution_count": 1,
   "metadata": {},
   "outputs": [],
   "source": [
    "# Dependencies and Setup\n",
    "import matplotlib.pyplot as plt\n",
    "import pandas as pd\n",
    "import numpy as np\n",
    "import random\n",
    "import requests\n",
    "import time\n",
    "\n",
    "from scipy.stats import linregress\n",
    "\n",
    "# Import API key\n",
    "from api_keys import weather_api_key\n",
    "\n",
    "# Incorporated citipy to determine city based on latitude and longitude\n",
    "from citipy import citipy\n",
    "\n",
    "np.random.seed(42)\n",
    "\n",
    "# Output File (CSV)\n",
    "output_data_file = \"output_data/cities.csv\"\n",
    "\n",
    "# Range of latitudes and longitudes\n",
    "lat_range = (-90, 90)\n",
    "lng_range = (-180, 180)"
   ]
  },
  {
   "cell_type": "markdown",
   "metadata": {},
   "source": [
    "## Generate Cities List"
   ]
  },
  {
   "cell_type": "code",
   "execution_count": 2,
   "metadata": {},
   "outputs": [
    {
     "data": {
      "text/plain": [
       "597"
      ]
     },
     "execution_count": 2,
     "metadata": {},
     "output_type": "execute_result"
    }
   ],
   "source": [
    "# List for holding lat_lngs and cities\n",
    "lat_lngs = []\n",
    "cities = []\n",
    "\n",
    "# Create a set of random lat and lng combinations\n",
    "lats = np.random.uniform(lat_range[0], lat_range[1], size=1500)\n",
    "lngs = np.random.uniform(lng_range[0], lng_range[1], size=1500)\n",
    "lat_lngs = zip(lats, lngs)\n",
    "\n",
    "# Identify nearest city for each lat, lng combination\n",
    "for lat_lng in lat_lngs:\n",
    "    city = citipy.nearest_city(lat_lng[0], lat_lng[1]).city_name\n",
    "    \n",
    "    # If the city is unique, then add it to a our cities list\n",
    "    if city not in cities:\n",
    "        cities.append(city)\n",
    "\n",
    "# Print the city count to confirm sufficient count\n",
    "len(cities)"
   ]
  },
  {
   "cell_type": "markdown",
   "metadata": {},
   "source": [
    "### Perform API Calls\n",
    "* Perform a weather check on each city using a series of successive API calls.\n",
    "* Include a print log of each city as it'sbeing processed (with the city number and city name).\n"
   ]
  },
  {
   "cell_type": "code",
   "execution_count": 3,
   "metadata": {},
   "outputs": [],
   "source": [
    "# cities"
   ]
  },
  {
   "cell_type": "code",
   "execution_count": 4,
   "metadata": {},
   "outputs": [],
   "source": [
    "# Create base url to scan API\n",
    "url = \"http://api.openweathermap.org/data/2.5/weather?&units=imperial\"\n",
    "base_url = f\"{url}&appid={weather_api_key}\""
   ]
  },
  {
   "cell_type": "code",
   "execution_count": 5,
   "metadata": {},
   "outputs": [],
   "source": [
    "# Create parameters\n",
    "# cities = cities[0:10]\n",
    "city_name = []\n",
    "lat = []\n",
    "lng = []\n",
    "max_temp = []\n",
    "humidity = []\n",
    "cloudiness = []\n",
    "wind_speed = []\n",
    "country = []\n",
    "date = []"
   ]
  },
  {
   "cell_type": "code",
   "execution_count": 6,
   "metadata": {},
   "outputs": [
    {
     "name": "stdout",
     "output_type": "stream",
     "text": [
      "{'coord': {'lon': 133.385, 'lat': 67.5447}, 'weather': [{'id': 800, 'main': 'Clear', 'description': 'clear sky', 'icon': '01d'}], 'base': 'stations', 'main': {'temp': -20.47, 'feels_like': -28.08, 'temp_min': -20.47, 'temp_max': -20.47, 'pressure': 1032, 'humidity': 80, 'sea_level': 1032, 'grnd_level': 1013}, 'visibility': 10000, 'wind': {'speed': 1.19, 'deg': 108}, 'clouds': {'all': 0}, 'dt': 1613446125, 'sys': {'country': 'RU', 'sunrise': 1613431123, 'sunset': 1613460159}, 'timezone': 36000, 'id': 2013465, 'name': 'Verkhoyansk', 'cod': 200}\n"
     ]
    }
   ],
   "source": [
    "# Create a for loop to go through each city. \n",
    "# Include a try/except so code doesn't break.\n",
    "counter = 0\n",
    "\n",
    "for city in cities:\n",
    "    my_city_url = base_url + '&q=' + city\n",
    "#     print(city)\n",
    "#     counter += 1\n",
    "#     if counter == 10:\n",
    "#         break\n",
    "\n",
    "    try:\n",
    "        response = requests.get(my_city_url).json()\n",
    "        city_name.append(response['name'])\n",
    "        lat.append(response['coord']['lat'])\n",
    "        lng.append(response['coord']['lon'])\n",
    "        max_temp.append(response['main']['temp_max'])\n",
    "        humidity.append(response['main']['humidity'])\n",
    "        cloudiness.append(response['clouds']['all'])\n",
    "        wind_speed.append(response['wind']['speed'])\n",
    "        country.append(response['sys']['country'])\n",
    "        date.append(response['dt'])\n",
    "        \n",
    "        time.sleep(0.5)\n",
    "        \n",
    "    except (KeyError, ValueError):\n",
    "        # Append null values\n",
    "#         print(\"Missing field...skipping.\")\n",
    "        pass\n",
    "    \n",
    "print(response)"
   ]
  },
  {
   "cell_type": "code",
   "execution_count": 7,
   "metadata": {},
   "outputs": [
    {
     "data": {
      "text/html": [
       "<div>\n",
       "<style scoped>\n",
       "    .dataframe tbody tr th:only-of-type {\n",
       "        vertical-align: middle;\n",
       "    }\n",
       "\n",
       "    .dataframe tbody tr th {\n",
       "        vertical-align: top;\n",
       "    }\n",
       "\n",
       "    .dataframe thead th {\n",
       "        text-align: right;\n",
       "    }\n",
       "</style>\n",
       "<table border=\"1\" class=\"dataframe\">\n",
       "  <thead>\n",
       "    <tr style=\"text-align: right;\">\n",
       "      <th></th>\n",
       "      <th>City</th>\n",
       "      <th>City Latitude</th>\n",
       "      <th>City Longitude</th>\n",
       "      <th>Max Temperature</th>\n",
       "      <th>Humidity</th>\n",
       "      <th>Cloud Coverage</th>\n",
       "      <th>Wind Speed</th>\n",
       "      <th>City Country</th>\n",
       "      <th>City Datetime</th>\n",
       "    </tr>\n",
       "  </thead>\n",
       "  <tbody>\n",
       "    <tr>\n",
       "      <th>0</th>\n",
       "      <td>Henties Bay</td>\n",
       "      <td>-22.1160</td>\n",
       "      <td>14.2845</td>\n",
       "      <td>60.01</td>\n",
       "      <td>87</td>\n",
       "      <td>60</td>\n",
       "      <td>8.19</td>\n",
       "      <td>NA</td>\n",
       "      <td>1613445822</td>\n",
       "    </tr>\n",
       "    <tr>\n",
       "      <th>1</th>\n",
       "      <td>Bethel</td>\n",
       "      <td>41.3712</td>\n",
       "      <td>-73.4140</td>\n",
       "      <td>30.99</td>\n",
       "      <td>93</td>\n",
       "      <td>90</td>\n",
       "      <td>5.75</td>\n",
       "      <td>US</td>\n",
       "      <td>1613445823</td>\n",
       "    </tr>\n",
       "    <tr>\n",
       "      <th>2</th>\n",
       "      <td>Saint-François</td>\n",
       "      <td>46.4154</td>\n",
       "      <td>3.9054</td>\n",
       "      <td>37.00</td>\n",
       "      <td>87</td>\n",
       "      <td>0</td>\n",
       "      <td>2.30</td>\n",
       "      <td>FR</td>\n",
       "      <td>1613445823</td>\n",
       "    </tr>\n",
       "    <tr>\n",
       "      <th>3</th>\n",
       "      <td>Ushuaia</td>\n",
       "      <td>-54.8000</td>\n",
       "      <td>-68.3000</td>\n",
       "      <td>55.40</td>\n",
       "      <td>58</td>\n",
       "      <td>75</td>\n",
       "      <td>2.30</td>\n",
       "      <td>AR</td>\n",
       "      <td>1613445662</td>\n",
       "    </tr>\n",
       "    <tr>\n",
       "      <th>4</th>\n",
       "      <td>Mar del Plata</td>\n",
       "      <td>-38.0023</td>\n",
       "      <td>-57.5575</td>\n",
       "      <td>69.01</td>\n",
       "      <td>100</td>\n",
       "      <td>90</td>\n",
       "      <td>5.75</td>\n",
       "      <td>AR</td>\n",
       "      <td>1613445721</td>\n",
       "    </tr>\n",
       "    <tr>\n",
       "      <th>...</th>\n",
       "      <td>...</td>\n",
       "      <td>...</td>\n",
       "      <td>...</td>\n",
       "      <td>...</td>\n",
       "      <td>...</td>\n",
       "      <td>...</td>\n",
       "      <td>...</td>\n",
       "      <td>...</td>\n",
       "      <td>...</td>\n",
       "    </tr>\n",
       "    <tr>\n",
       "      <th>539</th>\n",
       "      <td>Vredendal</td>\n",
       "      <td>-31.6683</td>\n",
       "      <td>18.5012</td>\n",
       "      <td>58.14</td>\n",
       "      <td>60</td>\n",
       "      <td>0</td>\n",
       "      <td>9.26</td>\n",
       "      <td>ZA</td>\n",
       "      <td>1613446374</td>\n",
       "    </tr>\n",
       "    <tr>\n",
       "      <th>540</th>\n",
       "      <td>Kushima</td>\n",
       "      <td>31.4583</td>\n",
       "      <td>131.2333</td>\n",
       "      <td>55.40</td>\n",
       "      <td>46</td>\n",
       "      <td>20</td>\n",
       "      <td>18.41</td>\n",
       "      <td>JP</td>\n",
       "      <td>1613446375</td>\n",
       "    </tr>\n",
       "    <tr>\n",
       "      <th>541</th>\n",
       "      <td>Eirunepé</td>\n",
       "      <td>-6.6603</td>\n",
       "      <td>-69.8736</td>\n",
       "      <td>74.10</td>\n",
       "      <td>96</td>\n",
       "      <td>100</td>\n",
       "      <td>2.37</td>\n",
       "      <td>BR</td>\n",
       "      <td>1613446376</td>\n",
       "    </tr>\n",
       "    <tr>\n",
       "      <th>542</th>\n",
       "      <td>Tocopilla</td>\n",
       "      <td>-22.0920</td>\n",
       "      <td>-70.1979</td>\n",
       "      <td>67.50</td>\n",
       "      <td>67</td>\n",
       "      <td>0</td>\n",
       "      <td>4.18</td>\n",
       "      <td>CL</td>\n",
       "      <td>1613446224</td>\n",
       "    </tr>\n",
       "    <tr>\n",
       "      <th>543</th>\n",
       "      <td>Verkhoyansk</td>\n",
       "      <td>67.5447</td>\n",
       "      <td>133.3850</td>\n",
       "      <td>-20.47</td>\n",
       "      <td>80</td>\n",
       "      <td>0</td>\n",
       "      <td>1.19</td>\n",
       "      <td>RU</td>\n",
       "      <td>1613446125</td>\n",
       "    </tr>\n",
       "  </tbody>\n",
       "</table>\n",
       "<p>544 rows × 9 columns</p>\n",
       "</div>"
      ],
      "text/plain": [
       "               City  City Latitude  City Longitude  Max Temperature  Humidity  \\\n",
       "0       Henties Bay       -22.1160         14.2845            60.01        87   \n",
       "1            Bethel        41.3712        -73.4140            30.99        93   \n",
       "2    Saint-François        46.4154          3.9054            37.00        87   \n",
       "3           Ushuaia       -54.8000        -68.3000            55.40        58   \n",
       "4     Mar del Plata       -38.0023        -57.5575            69.01       100   \n",
       "..              ...            ...             ...              ...       ...   \n",
       "539       Vredendal       -31.6683         18.5012            58.14        60   \n",
       "540         Kushima        31.4583        131.2333            55.40        46   \n",
       "541        Eirunepé        -6.6603        -69.8736            74.10        96   \n",
       "542       Tocopilla       -22.0920        -70.1979            67.50        67   \n",
       "543     Verkhoyansk        67.5447        133.3850           -20.47        80   \n",
       "\n",
       "     Cloud Coverage  Wind Speed City Country  City Datetime  \n",
       "0                60        8.19           NA     1613445822  \n",
       "1                90        5.75           US     1613445823  \n",
       "2                 0        2.30           FR     1613445823  \n",
       "3                75        2.30           AR     1613445662  \n",
       "4                90        5.75           AR     1613445721  \n",
       "..              ...         ...          ...            ...  \n",
       "539               0        9.26           ZA     1613446374  \n",
       "540              20       18.41           JP     1613446375  \n",
       "541             100        2.37           BR     1613446376  \n",
       "542               0        4.18           CL     1613446224  \n",
       "543               0        1.19           RU     1613446125  \n",
       "\n",
       "[544 rows x 9 columns]"
      ]
     },
     "execution_count": 7,
     "metadata": {},
     "output_type": "execute_result"
    }
   ],
   "source": [
    "# Create a dataframe from the cities, lat, temp, humidity, cloudiness, and wind speed.\n",
    "city_weather_df = pd.DataFrame({\"City\": city_name,\n",
    "                                \"City Latitude\": lat,\n",
    "                                \"City Longitude\": lng,\n",
    "                                \"Max Temperature\": max_temp,\n",
    "                                \"Humidity\": humidity,\n",
    "                                \"Cloud Coverage\": cloudiness,\n",
    "                                \"Wind Speed\": wind_speed,\n",
    "                                \"City Country\": country,\n",
    "                                \"City Datetime\": date\n",
    "                               })\n",
    "\n",
    "\n",
    "city_weather_df"
   ]
  },
  {
   "cell_type": "markdown",
   "metadata": {},
   "source": [
    "### Convert Raw Data to DataFrame\n",
    "* Export the city data into a .csv.\n",
    "* Display the DataFrame"
   ]
  },
  {
   "cell_type": "code",
   "execution_count": 8,
   "metadata": {},
   "outputs": [],
   "source": [
    "# Export the city data into a .csv\n",
    "city_weather_df.to_csv(\"City_Weather.csv\", index=False)"
   ]
  },
  {
   "cell_type": "markdown",
   "metadata": {},
   "source": [
    "## Plotting the Data\n",
    "* Use proper labeling of the plots using plot titles (including date of analysis) and axes labels.\n",
    "* Save the plotted figures as .pngs."
   ]
  },
  {
   "cell_type": "markdown",
   "metadata": {},
   "source": [
    "## Latitude vs. Temperature Plot"
   ]
  },
  {
   "cell_type": "code",
   "execution_count": 9,
   "metadata": {},
   "outputs": [
    {
     "data": {
      "image/png": "[encoded data removed]",
      "text/plain": [
       "<Figure size 432x288 with 1 Axes>"
      ]
     },
     "metadata": {
      "needs_background": "light"
     },
     "output_type": "display_data"
    }
   ],
   "source": [
    "# Build a scatter plot for Latitude vs Temperature (F)\n",
    "plt.scatter(city_weather_df[\"City Latitude\"], city_weather_df[\"Max Temperature\"], marker=\"o\")\n",
    "\n",
    "# Incorporate the other graph properties\n",
    "plt.title(\"Latitude vs Temperature (F)\")\n",
    "plt.ylabel(\"Temperature (F)\")\n",
    "plt.xlabel(\"Latitude\")\n",
    "plt.grid(True)\n",
    "\n",
    "plt.savefig(\"Latitude_vs_TemperatureInWorldCities\")\n",
    "\n",
    "plt.show()"
   ]
  },
  {
   "cell_type": "markdown",
   "metadata": {},
   "source": [
    "The \"Latitude vs Temperature\" scatter plot compares the latitude with the temperature of hundreds of cities around the world."
   ]
  },
  {
   "cell_type": "markdown",
   "metadata": {},
   "source": [
    "## Latitude vs. Humidity Plot"
   ]
  },
  {
   "cell_type": "code",
   "execution_count": 10,
   "metadata": {},
   "outputs": [
    {
     "data": {
      "image/png": "[encoded data removed]",
      "text/plain": [
       "<Figure size 432x288 with 1 Axes>"
      ]
     },
     "metadata": {
      "needs_background": "light"
     },
     "output_type": "display_data"
    }
   ],
   "source": [
    "# Build a scatter plot for Latitude vs Humidity \n",
    "plt.scatter(city_weather_df[\"City Latitude\"], city_weather_df[\"Humidity\"], marker=\"o\")\n",
    "\n",
    "# Incorporate the other graph properties\n",
    "plt.title(\"Latitude vs Humidity (%)\")\n",
    "plt.ylabel(\"Humidity (%)\")\n",
    "plt.xlabel(\"Latitude\")\n",
    "plt.grid(True)\n",
    "\n",
    "plt.savefig(\"Latitude_vs_HumidityInWorldCities\")\n",
    "\n",
    "plt.show()"
   ]
  },
  {
   "cell_type": "markdown",
   "metadata": {},
   "source": [
    "The \"Latitude vs Humidity\" scatter plot compares the latitude with the humidity of hundreds of cities around the world."
   ]
  },
  {
   "cell_type": "markdown",
   "metadata": {},
   "source": [
    "## Latitude vs. Cloudiness Plot"
   ]
  },
  {
   "cell_type": "code",
   "execution_count": 11,
   "metadata": {},
   "outputs": [
    {
     "data": {
      "image/png": "[encoded data removed]",
      "text/plain": [
       "<Figure size 432x288 with 1 Axes>"
      ]
     },
     "metadata": {
      "needs_background": "light"
     },
     "output_type": "display_data"
    }
   ],
   "source": [
    "# Build a scatter plot for Latitude vs Cloudiness\n",
    "plt.scatter(city_weather_df[\"City Latitude\"], city_weather_df[\"Cloud Coverage\"], marker=\"o\")\n",
    "\n",
    "# Incorporate the other graph properties\n",
    "plt.title(\"Latitude vs Cloudiness (%)\")\n",
    "plt.ylabel(\"Cloudiness (%)\")\n",
    "plt.xlabel(\"Latitude\")\n",
    "plt.grid(True)\n",
    "\n",
    "plt.savefig(\"Latitude_vs_CloudinessInWorldCities\")\n",
    "\n",
    "plt.show()"
   ]
  },
  {
   "cell_type": "markdown",
   "metadata": {},
   "source": [
    "The \"Latitude vs Cloudiness\" scatter plot compares the latitude with the cloudiness in hundreds of cities around the world."
   ]
  },
  {
   "cell_type": "markdown",
   "metadata": {},
   "source": [
    "## Latitude vs. Wind Speed Plot"
   ]
  },
  {
   "cell_type": "code",
   "execution_count": 12,
   "metadata": {},
   "outputs": [
    {
     "data": {
      "image/png": "[encoded data removed]",
      "text/plain": [
       "<Figure size 432x288 with 1 Axes>"
      ]
     },
     "metadata": {
      "needs_background": "light"
     },
     "output_type": "display_data"
    }
   ],
   "source": [
    "# Build a scatter plot for Latitude vs Wind Speed (mph)\n",
    "plt.scatter(city_weather_df[\"City Latitude\"], city_weather_df[\"Wind Speed\"], marker=\"o\")\n",
    "\n",
    "# Incorporate the other graph properties\n",
    "plt.title(\"Latitude vs Wind Speed (mph)\")\n",
    "plt.ylabel(\"Wind Speed (mph)\")\n",
    "plt.xlabel(\"Latitude\")\n",
    "plt.grid(True)\n",
    "\n",
    "plt.savefig(\"Latitude_vs_Wind_SpeedInWorldCities\")\n",
    "\n",
    "plt.show()"
   ]
  },
  {
   "cell_type": "markdown",
   "metadata": {},
   "source": [
    "The \"Latitude vs Wind Speed\" scatter plot compares the latitude with the wind speed in hundreds of cities around the world."
   ]
  },
  {
   "cell_type": "markdown",
   "metadata": {},
   "source": [
    "## Inspect the data and remove the cities where the humidity > 100%.\n",
    "----\n",
    "Skip this step if there are no cities that have humidity > 100%. "
   ]
  },
  {
   "cell_type": "code",
   "execution_count": 13,
   "metadata": {},
   "outputs": [
    {
     "data": {
      "text/plain": [
       "100"
      ]
     },
     "execution_count": 13,
     "metadata": {},
     "output_type": "execute_result"
    }
   ],
   "source": [
    "city_weather_df[\"Humidity\"].max()"
   ]
  },
  {
   "cell_type": "code",
   "execution_count": 14,
   "metadata": {},
   "outputs": [
    {
     "data": {
      "text/html": [
       "<div>\n",
       "<style scoped>\n",
       "    .dataframe tbody tr th:only-of-type {\n",
       "        vertical-align: middle;\n",
       "    }\n",
       "\n",
       "    .dataframe tbody tr th {\n",
       "        vertical-align: top;\n",
       "    }\n",
       "\n",
       "    .dataframe thead th {\n",
       "        text-align: right;\n",
       "    }\n",
       "</style>\n",
       "<table border=\"1\" class=\"dataframe\">\n",
       "  <thead>\n",
       "    <tr style=\"text-align: right;\">\n",
       "      <th></th>\n",
       "      <th>City</th>\n",
       "      <th>City Latitude</th>\n",
       "      <th>City Longitude</th>\n",
       "      <th>Max Temperature</th>\n",
       "      <th>Humidity</th>\n",
       "      <th>Cloud Coverage</th>\n",
       "      <th>Wind Speed</th>\n",
       "      <th>City Country</th>\n",
       "      <th>City Datetime</th>\n",
       "    </tr>\n",
       "  </thead>\n",
       "  <tbody>\n",
       "    <tr>\n",
       "      <th>0</th>\n",
       "      <td>Henties Bay</td>\n",
       "      <td>-22.1160</td>\n",
       "      <td>14.2845</td>\n",
       "      <td>60.01</td>\n",
       "      <td>87</td>\n",
       "      <td>60</td>\n",
       "      <td>8.19</td>\n",
       "      <td>NA</td>\n",
       "      <td>1613445822</td>\n",
       "    </tr>\n",
       "    <tr>\n",
       "      <th>1</th>\n",
       "      <td>Bethel</td>\n",
       "      <td>41.3712</td>\n",
       "      <td>-73.4140</td>\n",
       "      <td>30.99</td>\n",
       "      <td>93</td>\n",
       "      <td>90</td>\n",
       "      <td>5.75</td>\n",
       "      <td>US</td>\n",
       "      <td>1613445823</td>\n",
       "    </tr>\n",
       "    <tr>\n",
       "      <th>2</th>\n",
       "      <td>Saint-François</td>\n",
       "      <td>46.4154</td>\n",
       "      <td>3.9054</td>\n",
       "      <td>37.00</td>\n",
       "      <td>87</td>\n",
       "      <td>0</td>\n",
       "      <td>2.30</td>\n",
       "      <td>FR</td>\n",
       "      <td>1613445823</td>\n",
       "    </tr>\n",
       "    <tr>\n",
       "      <th>3</th>\n",
       "      <td>Ushuaia</td>\n",
       "      <td>-54.8000</td>\n",
       "      <td>-68.3000</td>\n",
       "      <td>55.40</td>\n",
       "      <td>58</td>\n",
       "      <td>75</td>\n",
       "      <td>2.30</td>\n",
       "      <td>AR</td>\n",
       "      <td>1613445662</td>\n",
       "    </tr>\n",
       "    <tr>\n",
       "      <th>4</th>\n",
       "      <td>Mar del Plata</td>\n",
       "      <td>-38.0023</td>\n",
       "      <td>-57.5575</td>\n",
       "      <td>69.01</td>\n",
       "      <td>100</td>\n",
       "      <td>90</td>\n",
       "      <td>5.75</td>\n",
       "      <td>AR</td>\n",
       "      <td>1613445721</td>\n",
       "    </tr>\n",
       "    <tr>\n",
       "      <th>...</th>\n",
       "      <td>...</td>\n",
       "      <td>...</td>\n",
       "      <td>...</td>\n",
       "      <td>...</td>\n",
       "      <td>...</td>\n",
       "      <td>...</td>\n",
       "      <td>...</td>\n",
       "      <td>...</td>\n",
       "      <td>...</td>\n",
       "    </tr>\n",
       "    <tr>\n",
       "      <th>539</th>\n",
       "      <td>Vredendal</td>\n",
       "      <td>-31.6683</td>\n",
       "      <td>18.5012</td>\n",
       "      <td>58.14</td>\n",
       "      <td>60</td>\n",
       "      <td>0</td>\n",
       "      <td>9.26</td>\n",
       "      <td>ZA</td>\n",
       "      <td>1613446374</td>\n",
       "    </tr>\n",
       "    <tr>\n",
       "      <th>540</th>\n",
       "      <td>Kushima</td>\n",
       "      <td>31.4583</td>\n",
       "      <td>131.2333</td>\n",
       "      <td>55.40</td>\n",
       "      <td>46</td>\n",
       "      <td>20</td>\n",
       "      <td>18.41</td>\n",
       "      <td>JP</td>\n",
       "      <td>1613446375</td>\n",
       "    </tr>\n",
       "    <tr>\n",
       "      <th>541</th>\n",
       "      <td>Eirunepé</td>\n",
       "      <td>-6.6603</td>\n",
       "      <td>-69.8736</td>\n",
       "      <td>74.10</td>\n",
       "      <td>96</td>\n",
       "      <td>100</td>\n",
       "      <td>2.37</td>\n",
       "      <td>BR</td>\n",
       "      <td>1613446376</td>\n",
       "    </tr>\n",
       "    <tr>\n",
       "      <th>542</th>\n",
       "      <td>Tocopilla</td>\n",
       "      <td>-22.0920</td>\n",
       "      <td>-70.1979</td>\n",
       "      <td>67.50</td>\n",
       "      <td>67</td>\n",
       "      <td>0</td>\n",
       "      <td>4.18</td>\n",
       "      <td>CL</td>\n",
       "      <td>1613446224</td>\n",
       "    </tr>\n",
       "    <tr>\n",
       "      <th>543</th>\n",
       "      <td>Verkhoyansk</td>\n",
       "      <td>67.5447</td>\n",
       "      <td>133.3850</td>\n",
       "      <td>-20.47</td>\n",
       "      <td>80</td>\n",
       "      <td>0</td>\n",
       "      <td>1.19</td>\n",
       "      <td>RU</td>\n",
       "      <td>1613446125</td>\n",
       "    </tr>\n",
       "  </tbody>\n",
       "</table>\n",
       "<p>544 rows × 9 columns</p>\n",
       "</div>"
      ],
      "text/plain": [
       "               City  City Latitude  City Longitude  Max Temperature  Humidity  \\\n",
       "0       Henties Bay       -22.1160         14.2845            60.01        87   \n",
       "1            Bethel        41.3712        -73.4140            30.99        93   \n",
       "2    Saint-François        46.4154          3.9054            37.00        87   \n",
       "3           Ushuaia       -54.8000        -68.3000            55.40        58   \n",
       "4     Mar del Plata       -38.0023        -57.5575            69.01       100   \n",
       "..              ...            ...             ...              ...       ...   \n",
       "539       Vredendal       -31.6683         18.5012            58.14        60   \n",
       "540         Kushima        31.4583        131.2333            55.40        46   \n",
       "541        Eirunepé        -6.6603        -69.8736            74.10        96   \n",
       "542       Tocopilla       -22.0920        -70.1979            67.50        67   \n",
       "543     Verkhoyansk        67.5447        133.3850           -20.47        80   \n",
       "\n",
       "     Cloud Coverage  Wind Speed City Country  City Datetime  \n",
       "0                60        8.19           NA     1613445822  \n",
       "1                90        5.75           US     1613445823  \n",
       "2                 0        2.30           FR     1613445823  \n",
       "3                75        2.30           AR     1613445662  \n",
       "4                90        5.75           AR     1613445721  \n",
       "..              ...         ...          ...            ...  \n",
       "539               0        9.26           ZA     1613446374  \n",
       "540              20       18.41           JP     1613446375  \n",
       "541             100        2.37           BR     1613446376  \n",
       "542               0        4.18           CL     1613446224  \n",
       "543               0        1.19           RU     1613446125  \n",
       "\n",
       "[544 rows x 9 columns]"
      ]
     },
     "execution_count": 14,
     "metadata": {},
     "output_type": "execute_result"
    }
   ],
   "source": [
    "# Make a new DataFrame equal to the city data to drop all humidity outliers by index.\n",
    "# Passing \"inplace=False\" will make a copy of the city_data DataFrame, which we call \"clean_city_data\".\n",
    "city_weather_df.dropna(inplace=True)\n",
    "city_weather_df.reset_index(drop=True, inplace=True)\n",
    "city_weather_df"
   ]
  },
  {
   "cell_type": "markdown",
   "metadata": {},
   "source": [
    "## Linear Regression"
   ]
  },
  {
   "cell_type": "markdown",
   "metadata": {},
   "source": [
    "####  Northern Hemisphere - Max Temp vs. Latitude Linear Regression"
   ]
  },
  {
   "cell_type": "code",
   "execution_count": 15,
   "metadata": {},
   "outputs": [
    {
     "name": "stdout",
     "output_type": "stream",
     "text": [
      "1      34.341280\n",
      "2      27.362333\n",
      "6       1.009552\n",
      "7      35.846453\n",
      "8      32.641024\n",
      "         ...    \n",
      "535    16.914666\n",
      "536    23.209443\n",
      "538    82.057314\n",
      "540    48.056359\n",
      "543    -1.871294\n",
      "Name: City Latitude, Length: 374, dtype: float64\n"
     ]
    }
   ],
   "source": [
    "# Find Northern Hemisphere cities with a latitude greater than '0'\n",
    "northern_lats = city_weather_df.loc[(city_weather_df['City Latitude'] > 0)]\n",
    "\n",
    "# Define variables\n",
    "north_latitude = northern_lats[\"City Latitude\"]\n",
    "north_max_temp = northern_lats[\"Max Temperature\"]\n",
    "\n",
    "# Perform a linear regression on temperature vs. latitude\n",
    "(slope, intercept, rvalue, pvalue, stderr) = linregress(north_latitude, north_max_temp)\n",
    "\n",
    "# Get regression values\n",
    "regress_values_north = north_latitude * slope + intercept\n",
    "print(regress_values_north)\n"
   ]
  },
  {
   "cell_type": "code",
   "execution_count": 16,
   "metadata": {},
   "outputs": [
    {
     "name": "stdout",
     "output_type": "stream",
     "text": [
      "y = -1.38x +91.58\n"
     ]
    }
   ],
   "source": [
    "# Create line equation string\n",
    "line_eq = \"y = \" + str(round(slope,2)) + \"x +\" + str(round(intercept,2))\n",
    "print(line_eq)"
   ]
  },
  {
   "cell_type": "code",
   "execution_count": 17,
   "metadata": {},
   "outputs": [
    {
     "name": "stdout",
     "output_type": "stream",
     "text": [
      "The r-value is 0.7551799190770769\n"
     ]
    },
    {
     "data": {
      "image/png": "[encoded data removed]",
      "text/plain": [
       "<Figure size 432x288 with 1 Axes>"
      ]
     },
     "metadata": {
      "needs_background": "light"
     },
     "output_type": "display_data"
    }
   ],
   "source": [
    "# Create plot\n",
    "plt.scatter(north_latitude, north_max_temp)\n",
    "plt.plot(north_latitude,regress_values_north, \"r-\")\n",
    "\n",
    "#Label plot and annotate the line equation\n",
    "plt.title(\"Northern Hemisphere - Max Temp (F) vs. Latitude\")\n",
    "plt.xlabel('Latitude')\n",
    "plt.ylabel('Temperature (F)')\n",
    "plt.annotate(line_eq,(35, 80),fontsize=15,color=\"red\")\n",
    "\n",
    "# Print r value\n",
    "print(f\"The r-value is {rvalue**2}\")\n",
    "\n",
    "# Show plot\n",
    "plt.show()"
   ]
  },
  {
   "cell_type": "markdown",
   "metadata": {},
   "source": [
    "####  Southern Hemisphere - Max Temp vs. Latitude Linear Regression"
   ]
  },
  {
   "cell_type": "code",
   "execution_count": 18,
   "metadata": {},
   "outputs": [
    {
     "name": "stdout",
     "output_type": "stream",
     "text": [
      "0      73.038001\n",
      "3      61.529766\n",
      "4      67.444338\n",
      "5      68.852410\n",
      "11     73.360530\n",
      "         ...    \n",
      "534    70.881703\n",
      "537    75.936784\n",
      "539    69.674578\n",
      "541    78.480047\n",
      "542    73.046451\n",
      "Name: City Latitude, Length: 170, dtype: float64\n"
     ]
    }
   ],
   "source": [
    "# Find Southern Hemisphere cities with a latitude less than '0'\n",
    "southern_lats = city_weather_df.loc[(city_weather_df['City Latitude'] < 0)]\n",
    "\n",
    "# Define variables\n",
    "south_latitude = southern_lats[\"City Latitude\"]\n",
    "south_max_temp = southern_lats[\"Max Temperature\"]\n",
    "\n",
    "# Perform a linear regression on temperature vs. latitude\n",
    "(slope, intercept, rvalue, pvalue, stderr) = linregress(south_latitude, south_max_temp)\n",
    "\n",
    "# Get regression values\n",
    "regress_values_south = south_latitude * slope + intercept\n",
    "print(regress_values_south)"
   ]
  },
  {
   "cell_type": "code",
   "execution_count": 19,
   "metadata": {},
   "outputs": [
    {
     "name": "stdout",
     "output_type": "stream",
     "text": [
      "y = 0.35x +80.83\n"
     ]
    }
   ],
   "source": [
    "# Create line equation string\n",
    "line_eq = \"y = \" + str(round(slope,2)) + \"x +\" + str(round(intercept,2))\n",
    "print(line_eq)"
   ]
  },
  {
   "cell_type": "code",
   "execution_count": 20,
   "metadata": {},
   "outputs": [
    {
     "name": "stdout",
     "output_type": "stream",
     "text": [
      "The r-value is 0.20549597977718953\n"
     ]
    },
    {
     "data": {
      "image/png": "[encoded data removed]",
      "text/plain": [
       "<Figure size 432x288 with 1 Axes>"
      ]
     },
     "metadata": {
      "needs_background": "light"
     },
     "output_type": "display_data"
    }
   ],
   "source": [
    "# Create plot\n",
    "plt.scatter(south_latitude, south_max_temp)\n",
    "plt.plot(south_latitude,regress_values_south, \"r-\")\n",
    "\n",
    "#Label plot and annotate the line equation\n",
    "plt.title(\"Southern Hemisphere - Max Temp (F) vs. Latitude\")\n",
    "plt.xlabel('Latitude')\n",
    "plt.ylabel('Temperature (F)')\n",
    "plt.annotate(line_eq,(-30, 54),fontsize=15,color=\"red\")\n",
    "\n",
    "# Print r value\n",
    "print(f\"The r-value is {rvalue**2}\")\n",
    "\n",
    "# Show plot\n",
    "plt.show()"
   ]
  },
  {
   "cell_type": "markdown",
   "metadata": {},
   "source": [
    "####  Northern Hemisphere - Humidity (%) vs. Latitude Linear Regression"
   ]
  },
  {
   "cell_type": "code",
   "execution_count": 21,
   "metadata": {},
   "outputs": [
    {
     "name": "stdout",
     "output_type": "stream",
     "text": [
      "1      74.143550\n",
      "2      75.651109\n",
      "6      81.343712\n",
      "7      73.818410\n",
      "8      74.510831\n",
      "         ...    \n",
      "535    77.907965\n",
      "536    76.548197\n",
      "538    63.836159\n",
      "540    71.180884\n",
      "543    81.966019\n",
      "Name: City Latitude, Length: 374, dtype: float64\n"
     ]
    }
   ],
   "source": [
    "# Find Northern Hemisphere cities with a latitude greater than '0'\n",
    "northern_lats = city_weather_df.loc[(city_weather_df['City Latitude'] > 0)]\n",
    "\n",
    "# Define variables\n",
    "north_latitude = northern_lats[\"City Latitude\"]\n",
    "north_humidity = northern_lats[\"Humidity\"]\n",
    "\n",
    "# Perform a linear regression on humidity vs. latitude\n",
    "(slope, intercept, rvalue, pvalue, stderr) = linregress(north_latitude, north_humidity)\n",
    "\n",
    "# Get regression values\n",
    "regress_values_north = north_latitude * slope + intercept\n",
    "print(regress_values_north)"
   ]
  },
  {
   "cell_type": "code",
   "execution_count": 22,
   "metadata": {},
   "outputs": [
    {
     "name": "stdout",
     "output_type": "stream",
     "text": [
      "y = 0.3x +61.78\n"
     ]
    }
   ],
   "source": [
    "# Create line equation string\n",
    "line_eq = \"y = \" + str(round(slope,2)) + \"x +\" + str(round(intercept,2))\n",
    "print(line_eq)"
   ]
  },
  {
   "cell_type": "code",
   "execution_count": 23,
   "metadata": {},
   "outputs": [
    {
     "name": "stdout",
     "output_type": "stream",
     "text": [
      "The r-value is 0.09473089251968764\n"
     ]
    },
    {
     "data": {
      "image/png": "[encoded data removed]",
      "text/plain": [
       "<Figure size 432x288 with 1 Axes>"
      ]
     },
     "metadata": {
      "needs_background": "light"
     },
     "output_type": "display_data"
    }
   ],
   "source": [
    "# Create plot\n",
    "plt.scatter(north_latitude, north_humidity)\n",
    "plt.plot(north_latitude,regress_values_north, \"r-\")\n",
    "\n",
    "#Label plot and annotate the line equation\n",
    "plt.title(\"Northern Hemisphere - Humidity (%) vs. Latitude\")\n",
    "plt.xlabel('Latitude')\n",
    "plt.ylabel('Humidity (%)')\n",
    "plt.annotate(line_eq,(46, 30),fontsize=15,color=\"red\")\n",
    "\n",
    "# Print r value\n",
    "print(f\"The r-value is {rvalue**2}\")\n",
    "\n",
    "# Show plot\n",
    "plt.show()"
   ]
  },
  {
   "cell_type": "markdown",
   "metadata": {},
   "source": [
    "####  Southern Hemisphere - Humidity (%) vs. Latitude Linear Regression"
   ]
  },
  {
   "cell_type": "code",
   "execution_count": 24,
   "metadata": {},
   "outputs": [
    {
     "name": "stdout",
     "output_type": "stream",
     "text": [
      "0      75.303990\n",
      "3      60.504952\n",
      "4      68.110808\n",
      "5      69.921522\n",
      "11     75.718747\n",
      "         ...    \n",
      "534    72.531095\n",
      "537    79.031687\n",
      "539    70.978790\n",
      "541    82.302200\n",
      "542    75.314857\n",
      "Name: City Latitude, Length: 170, dtype: float64\n"
     ]
    }
   ],
   "source": [
    "# Find Southern Hemisphere cities with a latitude less than '0'\n",
    "southern_lats = city_weather_df.loc[(city_weather_df['City Latitude'] < 0)]\n",
    "\n",
    "# Define variables\n",
    "south_latitude = southern_lats[\"City Latitude\"]\n",
    "south_humidity = southern_lats[\"Humidity\"]\n",
    "\n",
    "# Perform a linear regression on humidity vs. latitude\n",
    "(slope, intercept, rvalue, pvalue, stderr) = linregress(south_latitude, south_humidity)\n",
    "\n",
    "# Get regression values\n",
    "regress_values_south = south_latitude * slope + intercept\n",
    "print(regress_values_south)"
   ]
  },
  {
   "cell_type": "code",
   "execution_count": 25,
   "metadata": {},
   "outputs": [
    {
     "name": "stdout",
     "output_type": "stream",
     "text": [
      "y = 0.45x +85.32\n"
     ]
    }
   ],
   "source": [
    "# Create line equation string\n",
    "line_eq = \"y = \" + str(round(slope,2)) + \"x +\" + str(round(intercept,2))\n",
    "print(line_eq)"
   ]
  },
  {
   "cell_type": "code",
   "execution_count": 26,
   "metadata": {},
   "outputs": [
    {
     "name": "stdout",
     "output_type": "stream",
     "text": [
      "The r-value is 0.10948163044082607\n"
     ]
    },
    {
     "data": {
      "image/png": "[encoded data removed]",
      "text/plain": [
       "<Figure size 432x288 with 1 Axes>"
      ]
     },
     "metadata": {
      "needs_background": "light"
     },
     "output_type": "display_data"
    }
   ],
   "source": [
    "# Create plot\n",
    "plt.scatter(south_latitude, south_humidity)\n",
    "plt.plot(south_latitude,regress_values_south, \"r-\")\n",
    "\n",
    "#Label plot and annotate the line equation\n",
    "plt.title(\"Southern Hemisphere - Humidity (%) vs. Latitude\")\n",
    "plt.xlabel('Latitude')\n",
    "plt.ylabel('Humdidty (%)')\n",
    "plt.annotate(line_eq,(-30, 58),fontsize=15,color=\"red\")\n",
    "\n",
    "# Print r value\n",
    "print(f\"The r-value is {rvalue**2}\")\n",
    "\n",
    "# Show plot\n",
    "plt.show()"
   ]
  },
  {
   "cell_type": "markdown",
   "metadata": {},
   "source": [
    "####  Northern Hemisphere - Cloudiness (%) vs. Latitude Linear Regression"
   ]
  },
  {
   "cell_type": "code",
   "execution_count": 27,
   "metadata": {},
   "outputs": [
    {
     "name": "stdout",
     "output_type": "stream",
     "text": [
      "1      50.512086\n",
      "2      52.748708\n",
      "6      61.194282\n",
      "7      50.029706\n",
      "8      51.056986\n",
      "         ...    \n",
      "535    56.096990\n",
      "536    54.079631\n",
      "538    35.219988\n",
      "540    46.116659\n",
      "543    62.117539\n",
      "Name: City Latitude, Length: 374, dtype: float64\n"
     ]
    }
   ],
   "source": [
    "# Find Northern Hemisphere cities with a latitude greater than '0'\n",
    "northern_lats = city_weather_df.loc[(city_weather_df['City Latitude'] > 0)]\n",
    "\n",
    "# Define variables\n",
    "north_latitude = northern_lats[\"City Latitude\"]\n",
    "north_cloudiness = northern_lats[\"Cloud Coverage\"]\n",
    "\n",
    "# Perform a linear regression on cloudiness vs. latitude\n",
    "(slope, intercept, rvalue, pvalue, stderr) = linregress(north_latitude, north_cloudiness)\n",
    "\n",
    "# Get regression values\n",
    "regress_values_north = north_latitude * slope + intercept\n",
    "print(regress_values_north)"
   ]
  },
  {
   "cell_type": "code",
   "execution_count": 28,
   "metadata": {},
   "outputs": [
    {
     "name": "stdout",
     "output_type": "stream",
     "text": [
      "y = 0.44x +32.17\n"
     ]
    }
   ],
   "source": [
    "# Create line equation string\n",
    "line_eq = \"y = \" + str(round(slope,2)) + \"x +\" + str(round(intercept,2))\n",
    "print(line_eq)"
   ]
  },
  {
   "cell_type": "code",
   "execution_count": 29,
   "metadata": {},
   "outputs": [
    {
     "name": "stdout",
     "output_type": "stream",
     "text": [
      "The r-value is 0.049194607871426585\n"
     ]
    },
    {
     "data": {
      "image/png": "[encoded data removed]",
      "text/plain": [
       "<Figure size 432x288 with 1 Axes>"
      ]
     },
     "metadata": {
      "needs_background": "light"
     },
     "output_type": "display_data"
    }
   ],
   "source": [
    "# Create plot\n",
    "plt.scatter(north_latitude, north_cloudiness)\n",
    "plt.plot(north_latitude,regress_values_north, \"r-\")\n",
    "\n",
    "#Label plot and annotate the line equation\n",
    "plt.title(\"Northern Hemisphere - Cloudiness (%) vs. Latitude\")\n",
    "plt.xlabel('Latitude')\n",
    "plt.ylabel('Cloudiness (%)')\n",
    "plt.annotate(line_eq,(32, 30),fontsize=15,color=\"red\")\n",
    "\n",
    "# Print r value\n",
    "print(f\"The r-value is {rvalue**2}\")\n",
    "\n",
    "# Show plot\n",
    "plt.show()"
   ]
  },
  {
   "cell_type": "markdown",
   "metadata": {},
   "source": [
    "####  Southern Hemisphere - Cloudiness (%) vs. Latitude Linear Regression"
   ]
  },
  {
   "cell_type": "code",
   "execution_count": 30,
   "metadata": {},
   "outputs": [
    {
     "name": "stdout",
     "output_type": "stream",
     "text": [
      "0      54.722340\n",
      "3      23.842004\n",
      "4      39.712724\n",
      "5      43.491040\n",
      "11     55.587791\n",
      "         ...    \n",
      "534    48.936293\n",
      "537    62.500720\n",
      "539    45.697183\n",
      "541    69.325119\n",
      "542    54.745016\n",
      "Name: City Latitude, Length: 170, dtype: float64\n"
     ]
    }
   ],
   "source": [
    "# Find Southern Hemisphere cities with a latitude less than '0'\n",
    "southern_lats = city_weather_df.loc[(city_weather_df['City Latitude'] < 0)]\n",
    "\n",
    "# Define variables\n",
    "south_latitude = southern_lats[\"City Latitude\"]\n",
    "south_cloudiness = southern_lats[\"Cloud Coverage\"]\n",
    "\n",
    "# Perform a linear regression on cloudiness vs. latitude\n",
    "(slope, intercept, rvalue, pvalue, stderr) = linregress(south_latitude, south_cloudiness)\n",
    "\n",
    "# Get regression values\n",
    "regress_values_south = south_latitude * slope + intercept\n",
    "print(regress_values_south)"
   ]
  },
  {
   "cell_type": "code",
   "execution_count": 31,
   "metadata": {},
   "outputs": [
    {
     "name": "stdout",
     "output_type": "stream",
     "text": [
      "y = 0.94x +75.62\n"
     ]
    }
   ],
   "source": [
    "# Create line equation string\n",
    "line_eq = \"y = \" + str(round(slope,2)) + \"x +\" + str(round(intercept,2))\n",
    "print(line_eq)"
   ]
  },
  {
   "cell_type": "code",
   "execution_count": 32,
   "metadata": {},
   "outputs": [
    {
     "name": "stdout",
     "output_type": "stream",
     "text": [
      "The r-value is 0.11131474443647209\n"
     ]
    },
    {
     "data": {
      "image/png": "[encoded data removed]",
      "text/plain": [
       "<Figure size 432x288 with 1 Axes>"
      ]
     },
     "metadata": {
      "needs_background": "light"
     },
     "output_type": "display_data"
    }
   ],
   "source": [
    "# Create plot\n",
    "plt.scatter(south_latitude, south_cloudiness)\n",
    "plt.plot(south_latitude,regress_values_south, \"r-\")\n",
    "\n",
    "#Label plot and annotate the line equation\n",
    "plt.title(\"Southern Hemisphere - Cloudiness (%) vs. Latitude\")\n",
    "plt.xlabel('Latitude')\n",
    "plt.ylabel('Cloudiness (%)')\n",
    "plt.annotate(line_eq,(-26, 25),fontsize=15,color=\"red\")\n",
    "\n",
    "# Print r value\n",
    "print(f\"The r-value is {rvalue**2}\")\n",
    "\n",
    "# Show plot\n",
    "plt.show()"
   ]
  },
  {
   "cell_type": "markdown",
   "metadata": {},
   "source": [
    "####  Northern Hemisphere - Wind Speed (mph) vs. Latitude Linear Regression"
   ]
  },
  {
   "cell_type": "code",
   "execution_count": 33,
   "metadata": {},
   "outputs": [
    {
     "name": "stdout",
     "output_type": "stream",
     "text": [
      "1      7.855454\n",
      "2      7.867387\n",
      "6      7.912448\n",
      "7      7.852880\n",
      "8      7.858361\n",
      "         ...   \n",
      "535    7.885252\n",
      "536    7.874488\n",
      "538    7.773864\n",
      "540    7.832002\n",
      "543    7.917374\n",
      "Name: City Latitude, Length: 374, dtype: float64\n"
     ]
    }
   ],
   "source": [
    "# Find Northern Hemisphere cities with a latitude greater than '0'\n",
    "northern_lats = city_weather_df.loc[(city_weather_df['City Latitude'] > 0)]\n",
    "\n",
    "# Define variables\n",
    "north_latitude = northern_lats[\"City Latitude\"]\n",
    "north_wind_speed = northern_lats[\"Wind Speed\"]\n",
    "\n",
    "# Perform a linear regression on wind speed vs. latitude\n",
    "(slope, intercept, rvalue, pvalue, stderr) = linregress(north_latitude, north_wind_speed)\n",
    "\n",
    "# Get regression values\n",
    "regress_values_north = north_latitude * slope + intercept\n",
    "print(regress_values_north)"
   ]
  },
  {
   "cell_type": "code",
   "execution_count": 34,
   "metadata": {},
   "outputs": [
    {
     "name": "stdout",
     "output_type": "stream",
     "text": [
      "y = 0.0x +7.76\n"
     ]
    }
   ],
   "source": [
    "# Create line equation string\n",
    "line_eq = \"y = \" + str(round(slope,2)) + \"x +\" + str(round(intercept,2))\n",
    "print(line_eq)"
   ]
  },
  {
   "cell_type": "code",
   "execution_count": 35,
   "metadata": {},
   "outputs": [
    {
     "name": "stdout",
     "output_type": "stream",
     "text": [
      "The r-value is 7.262821861497288e-05\n"
     ]
    },
    {
     "data": {
      "image/png": "[encoded data removed]",
      "text/plain": [
       "<Figure size 432x288 with 1 Axes>"
      ]
     },
     "metadata": {
      "needs_background": "light"
     },
     "output_type": "display_data"
    }
   ],
   "source": [
    "# Create plot\n",
    "plt.scatter(north_latitude, north_wind_speed)\n",
    "plt.plot(north_latitude,regress_values_north, \"r-\")\n",
    "\n",
    "#Label plot and annotate the line equation\n",
    "plt.title(\"Northern Hemisphere - Wind Speed (mph) vs. Latitude\")\n",
    "plt.xlabel('Latitude')\n",
    "plt.ylabel('Wind Speed (mph)')\n",
    "plt.annotate(line_eq,(5, 27),fontsize=15,color=\"red\")\n",
    "\n",
    "# Print r value\n",
    "print(f\"The r-value is {rvalue**2}\")\n",
    "\n",
    "# Show plot\n",
    "plt.show()"
   ]
  },
  {
   "cell_type": "markdown",
   "metadata": {},
   "source": [
    "####  Southern Hemisphere - Wind Speed (mph) vs. Latitude Linear Regression"
   ]
  },
  {
   "cell_type": "code",
   "execution_count": 36,
   "metadata": {},
   "outputs": [
    {
     "name": "stdout",
     "output_type": "stream",
     "text": [
      "0       7.223953\n",
      "3      10.009063\n",
      "4       8.577676\n",
      "5       8.236908\n",
      "11      7.145898\n",
      "         ...    \n",
      "534     7.745799\n",
      "537     6.522418\n",
      "539     8.037936\n",
      "541     5.906923\n",
      "542     7.221908\n",
      "Name: City Latitude, Length: 170, dtype: float64\n"
     ]
    }
   ],
   "source": [
    "# Find Southern Hemisphere cities with a latitude less than '0'\n",
    "southern_lats = city_weather_df.loc[(city_weather_df['City Latitude'] < 0)]\n",
    "\n",
    "# Define variables\n",
    "south_latitude = southern_lats[\"City Latitude\"]\n",
    "south_wind_speed = southern_lats[\"Wind Speed\"]\n",
    "\n",
    "# Perform a linear regression on wind speed vs. latitude\n",
    "(slope, intercept, rvalue, pvalue, stderr) = linregress(south_latitude, south_wind_speed)\n",
    "\n",
    "# Get regression values\n",
    "regress_values_south = south_latitude * slope + intercept\n",
    "print(regress_values_south)"
   ]
  },
  {
   "cell_type": "code",
   "execution_count": 37,
   "metadata": {},
   "outputs": [
    {
     "name": "stdout",
     "output_type": "stream",
     "text": [
      "y = -0.09x +5.34\n"
     ]
    }
   ],
   "source": [
    "# Create line equation string\n",
    "line_eq = \"y = \" + str(round(slope,2)) + \"x +\" + str(round(intercept,2))\n",
    "print(line_eq)"
   ]
  },
  {
   "cell_type": "code",
   "execution_count": 38,
   "metadata": {},
   "outputs": [
    {
     "name": "stdout",
     "output_type": "stream",
     "text": [
      "The r-value is 0.056215355227629445\n"
     ]
    },
    {
     "data": {
      "image/png": "[encoded data removed]",
      "text/plain": [
       "<Figure size 432x288 with 1 Axes>"
      ]
     },
     "metadata": {
      "needs_background": "light"
     },
     "output_type": "display_data"
    }
   ],
   "source": [
    "# Create plot\n",
    "plt.scatter(south_latitude, south_wind_speed)\n",
    "plt.plot(south_latitude,regress_values_south, \"r-\")\n",
    "\n",
    "#Label plot and annotate the line equation\n",
    "plt.title(\"Southern Hemisphere - Wind Speed (mph) vs. Latitude\")\n",
    "plt.xlabel('Latitude')\n",
    "plt.ylabel('Wind Speed (mph)')\n",
    "plt.annotate(line_eq,(-30, 17),fontsize=15,color=\"red\")\n",
    "\n",
    "# Print r value\n",
    "print(f\"The r-value is {rvalue**2}\")\n",
    "\n",
    "# Show plot\n",
    "plt.show()"
   ]
  },
  {
   "cell_type": "code",
   "execution_count": null,
   "metadata": {},
   "outputs": [],
   "source": []
  }
 ],
 "metadata": {
  "anaconda-cloud": {},
  "kernel_info": {
   "name": "python3"
  },
  "kernelspec": {
   "display_name": "Python 3",
   "language": "python",
   "name": "python3"
  },
  "language_info": {
   "codemirror_mode": {
    "name": "ipython",
    "version": 3
   },
   "file_extension": ".py",
   "mimetype": "text/x-python",
   "name": "python",
   "nbconvert_exporter": "python",
   "pygments_lexer": "ipython3",
   "version": "3.6.10"
  },
  "latex_envs": {
   "LaTeX_envs_menu_present": true,
   "autoclose": false,
   "autocomplete": true,
   "bibliofile": "biblio.bib",
   "cite_by": "apalike",
   "current_citInitial": 1,
   "eqLabelWithNumbers": true,
   "eqNumInitial": 1,
   "hotkeys": {
    "equation": "Ctrl-E",
    "itemize": "Ctrl-I"
   },
   "labels_anchors": false,
   "latex_user_defs": false,
   "report_style_numbering": false,
   "user_envs_cfg": false
  },
  "nteract": {
   "version": "0.12.3"
  }
 },
 "nbformat": 4,
 "nbformat_minor": 2
}
